{
  "cells": [
    {
      "cell_type": "code",
      "execution_count": null,
      "metadata": {
        "id": "SrkyvtM0Cs7S"
      },
      "outputs": [],
      "source": [
        "!pip install kaggle --quiet"
      ]
    },
    {
      "cell_type": "code",
      "execution_count": 1,
      "metadata": {
        "colab": {
          "base_uri": "https://localhost:8080/"
        },
        "id": "QvWZkKLsNurd",
        "outputId": "a8bcabc5-1049-41c4-cfb0-0a9d7a469249"
      },
      "outputs": [
        {
          "name": "stdout",
          "output_type": "stream",
          "text": [
            "Mounted at /content/drive\n"
          ]
        }
      ],
      "source": [
        "from google.colab import drive\n",
        "drive.mount('/content/drive')"
      ]
    },
    {
      "cell_type": "code",
      "execution_count": 2,
      "metadata": {
        "colab": {
          "base_uri": "https://localhost:8080/"
        },
        "id": "8C4o0hTKC0Ly",
        "outputId": "f351f0f1-4235-4b90-a9ef-072d1db5b846"
      },
      "outputs": [
        {
          "name": "stdout",
          "output_type": "stream",
          "text": [
            "Downloading from https://www.kaggle.com/api/v1/datasets/download/sobhanmoosavi/us-accidents?dataset_version_number=13...\n"
          ]
        },
        {
          "name": "stderr",
          "output_type": "stream",
          "text": [
            "100%|██████████| 653M/653M [00:09<00:00, 72.7MB/s]"
          ]
        },
        {
          "name": "stdout",
          "output_type": "stream",
          "text": [
            "Extracting files...\n"
          ]
        },
        {
          "name": "stderr",
          "output_type": "stream",
          "text": [
            "\n"
          ]
        }
      ],
      "source": [
        "# !kaggle datasets download -d sobhanmoosavi/us-accidents\n",
        "# !unzip us-accidents.zip\n",
        "import kagglehub\n",
        "path = kagglehub.dataset_download(\"sobhanmoosavi/us-accidents\")\n"
      ]
    },
    {
      "cell_type": "code",
      "execution_count": 3,
      "metadata": {
        "colab": {
          "base_uri": "https://localhost:8080/"
        },
        "id": "3RSjmOhJURdH",
        "outputId": "f03788cb-46f5-4759-b5a7-537461e10663"
      },
      "outputs": [
        {
          "name": "stdout",
          "output_type": "stream",
          "text": [
            "/root/.cache/kagglehub/datasets/sobhanmoosavi/us-accidents/versions/13\n"
          ]
        }
      ],
      "source": [
        "print(path)"
      ]
    },
    {
      "cell_type": "code",
      "execution_count": 4,
      "metadata": {
        "colab": {
          "base_uri": "https://localhost:8080/"
        },
        "id": "gRGEA6DcDxY7",
        "outputId": "01f08004-c5a5-42f4-e159-0393150293d8"
      },
      "outputs": [
        {
          "name": "stdout",
          "output_type": "stream",
          "text": [
            "Cloning into 'rapidsai-csp-utils'...\n",
            "remote: Enumerating objects: 587, done.\u001b[K\n",
            "remote: Counting objects: 100% (153/153), done.\u001b[K\n",
            "remote: Compressing objects: 100% (71/71), done.\u001b[K\n",
            "Receiving objects: 100% (587/587), 192.90 KiB | 1007.00 KiB/s, done.\n",
            "remote: Total 587 (delta 122), reused 82 (delta 82), pack-reused 434 (from 3)\u001b[K\n",
            "Resolving deltas: 100% (296/296), done.\n",
            "Installing RAPIDS remaining 25.02 libraries\n",
            "Using Python 3.11.11 environment at: /usr\n",
            "Resolved 172 packages in 1.22s\n",
            "Downloading cuproj-cu12 (1.1MiB)\n",
            "Downloading cuspatial-cu12 (4.1MiB)\n",
            "Downloading datashader (17.5MiB)\n",
            "Downloading libcuspatial-cu12 (31.1MiB)\n",
            "Downloading cugraph-cu12 (3.0MiB)\n",
            "Downloading cucim-cu12 (5.3MiB)\n",
            " Downloaded cuproj-cu12\n",
            " Downloaded cuspatial-cu12\n",
            " Downloaded libcuspatial-cu12\n",
            " Downloaded datashader\n",
            " Downloaded cugraph-cu12\n",
            " Downloaded cucim-cu12\n",
            "Prepared 23 packages in 824ms\n",
            "Uninstalled 2 packages in 24ms\n",
            "Installed 23 packages in 41ms\n",
            " + arrow==1.3.0\n",
            " + cucim-cu12==25.2.0\n",
            " + cugraph-cu12==25.2.0\n",
            " + cuproj-cu12==25.2.0\n",
            " + cuspatial-cu12==25.2.0\n",
            " + cuxfilter-cu12==25.2.0\n",
            " + datashader==0.17.0\n",
            " + fqdn==1.5.1\n",
            " + isoduration==20.11.0\n",
            " - jupyter-client==6.1.12\n",
            " + jupyter-client==8.6.3\n",
            " + jupyter-events==0.12.0\n",
            " - jupyter-server==1.16.0\n",
            " + jupyter-server==2.15.0\n",
            " + jupyter-server-proxy==4.4.0\n",
            " + jupyter-server-terminals==0.5.3\n",
            " + libcuspatial-cu12==25.2.0\n",
            " + overrides==7.7.0\n",
            " + pyct==0.5.0\n",
            " + python-json-logger==3.3.0\n",
            " + rfc3339-validator==0.1.4\n",
            " + rfc3986-validator==0.1.1\n",
            " + simpervisor==1.0.0\n",
            " + types-python-dateutil==2.9.0.20241206\n",
            " + uri-template==1.3.0\n",
            "\n",
            "        ***********************************************************************\n",
            "        The pip install of RAPIDS is complete.\n",
            "\n",
            "        Please do not run any further installation from the conda based installation methods, as they may cause issues!\n",
            "\n",
            "        Please ensure that you're pulling from the git repo to remain updated with the latest working install scripts.\n",
            "\n",
            "        Troubleshooting:\n",
            "            - If there is an installation failure, please check back on RAPIDSAI owned templates/notebooks to see how to update your personal files.\n",
            "            - If an installation failure persists when using the latest script, please make an issue on https://github.com/rapidsai-community/rapidsai-csp-utils\n",
            "        ***********************************************************************\n",
            "        \n"
          ]
        }
      ],
      "source": [
        "!git clone https://github.com/rapidsai/rapidsai-csp-utils.git\n",
        "!python rapidsai-csp-utils/colab/pip-install.py"
      ]
    },
    {
      "cell_type": "code",
      "execution_count": 5,
      "metadata": {
        "colab": {
          "base_uri": "https://localhost:8080/",
          "height": 35
        },
        "id": "oSM3cA-METMq",
        "outputId": "6ecff06d-5d71-49d3-b02e-016b34806c5b"
      },
      "outputs": [
        {
          "data": {
            "application/vnd.google.colaboratory.intrinsic+json": {
              "type": "string"
            },
            "text/plain": [
              "'25.02.01'"
            ]
          },
          "execution_count": 5,
          "metadata": {},
          "output_type": "execute_result"
        }
      ],
      "source": [
        "import cudf\n",
        "cudf.__version__"
      ]
    },
    {
      "cell_type": "code",
      "execution_count": 6,
      "metadata": {
        "id": "VHxJG7FVDNVi"
      },
      "outputs": [],
      "source": [
        "# import pandas as pd\n",
        "import cudf as pd\n",
        "\n",
        "df_total= pd.read_csv(\"/root/.cache/kagglehub/datasets/sobhanmoosavi/us-accidents/versions/13/US_Accidents_March23.csv\")"
      ]
    },
    {
      "cell_type": "code",
      "execution_count": 7,
      "metadata": {
        "colab": {
          "base_uri": "https://localhost:8080/",
          "height": 320
        },
        "id": "2y87EcN8Ewwb",
        "outputId": "182fc09d-69c2-4ba4-ab7a-b9ad7fe589c5"
      },
      "outputs": [
        {
          "data": {
            "text/html": [
              "<div>\n",
              "<style scoped>\n",
              "    .dataframe tbody tr th:only-of-type {\n",
              "        vertical-align: middle;\n",
              "    }\n",
              "\n",
              "    .dataframe tbody tr th {\n",
              "        vertical-align: top;\n",
              "    }\n",
              "\n",
              "    .dataframe thead th {\n",
              "        text-align: right;\n",
              "    }\n",
              "</style>\n",
              "<table border=\"1\" class=\"dataframe\">\n",
              "  <thead>\n",
              "    <tr style=\"text-align: right;\">\n",
              "      <th></th>\n",
              "      <th>Severity</th>\n",
              "      <th>Start_Lat</th>\n",
              "      <th>Start_Lng</th>\n",
              "      <th>End_Lat</th>\n",
              "      <th>End_Lng</th>\n",
              "      <th>Distance(mi)</th>\n",
              "      <th>Temperature(F)</th>\n",
              "      <th>Wind_Chill(F)</th>\n",
              "      <th>Humidity(%)</th>\n",
              "      <th>Pressure(in)</th>\n",
              "      <th>Visibility(mi)</th>\n",
              "      <th>Wind_Speed(mph)</th>\n",
              "      <th>Precipitation(in)</th>\n",
              "    </tr>\n",
              "  </thead>\n",
              "  <tbody>\n",
              "    <tr>\n",
              "      <th>count</th>\n",
              "      <td>7.728394e+06</td>\n",
              "      <td>7.728394e+06</td>\n",
              "      <td>7.728394e+06</td>\n",
              "      <td>4.325632e+06</td>\n",
              "      <td>4.325632e+06</td>\n",
              "      <td>7.728394e+06</td>\n",
              "      <td>7.564541e+06</td>\n",
              "      <td>5.729375e+06</td>\n",
              "      <td>7.554250e+06</td>\n",
              "      <td>7.587715e+06</td>\n",
              "      <td>7.551296e+06</td>\n",
              "      <td>7.157161e+06</td>\n",
              "      <td>5.524808e+06</td>\n",
              "    </tr>\n",
              "    <tr>\n",
              "      <th>mean</th>\n",
              "      <td>2.212384e+00</td>\n",
              "      <td>3.620119e+01</td>\n",
              "      <td>-9.470255e+01</td>\n",
              "      <td>3.626183e+01</td>\n",
              "      <td>-9.572557e+01</td>\n",
              "      <td>5.618420e-01</td>\n",
              "      <td>6.166329e+01</td>\n",
              "      <td>5.825105e+01</td>\n",
              "      <td>6.483104e+01</td>\n",
              "      <td>2.953899e+01</td>\n",
              "      <td>9.090376e+00</td>\n",
              "      <td>7.685490e+00</td>\n",
              "      <td>8.407000e-03</td>\n",
              "    </tr>\n",
              "    <tr>\n",
              "      <th>std</th>\n",
              "      <td>4.875310e-01</td>\n",
              "      <td>5.076079e+00</td>\n",
              "      <td>1.739176e+01</td>\n",
              "      <td>5.272905e+00</td>\n",
              "      <td>1.810793e+01</td>\n",
              "      <td>1.776811e+00</td>\n",
              "      <td>1.901365e+01</td>\n",
              "      <td>2.238983e+01</td>\n",
              "      <td>2.282097e+01</td>\n",
              "      <td>1.006190e+00</td>\n",
              "      <td>2.688316e+00</td>\n",
              "      <td>5.424983e+00</td>\n",
              "      <td>1.102250e-01</td>\n",
              "    </tr>\n",
              "    <tr>\n",
              "      <th>min</th>\n",
              "      <td>1.000000e+00</td>\n",
              "      <td>2.455480e+01</td>\n",
              "      <td>-1.246238e+02</td>\n",
              "      <td>2.456601e+01</td>\n",
              "      <td>-1.245457e+02</td>\n",
              "      <td>0.000000e+00</td>\n",
              "      <td>-8.900000e+01</td>\n",
              "      <td>-8.900000e+01</td>\n",
              "      <td>1.000000e+00</td>\n",
              "      <td>0.000000e+00</td>\n",
              "      <td>0.000000e+00</td>\n",
              "      <td>0.000000e+00</td>\n",
              "      <td>0.000000e+00</td>\n",
              "    </tr>\n",
              "    <tr>\n",
              "      <th>25%</th>\n",
              "      <td>2.000000e+00</td>\n",
              "      <td>3.339963e+01</td>\n",
              "      <td>-1.172194e+02</td>\n",
              "      <td>3.346207e+01</td>\n",
              "      <td>-1.177543e+02</td>\n",
              "      <td>0.000000e+00</td>\n",
              "      <td>4.900000e+01</td>\n",
              "      <td>4.300000e+01</td>\n",
              "      <td>4.800000e+01</td>\n",
              "      <td>2.937000e+01</td>\n",
              "      <td>1.000000e+01</td>\n",
              "      <td>4.600000e+00</td>\n",
              "      <td>0.000000e+00</td>\n",
              "    </tr>\n",
              "    <tr>\n",
              "      <th>50%</th>\n",
              "      <td>2.000000e+00</td>\n",
              "      <td>3.582397e+01</td>\n",
              "      <td>-8.776662e+01</td>\n",
              "      <td>3.618350e+01</td>\n",
              "      <td>-8.802789e+01</td>\n",
              "      <td>3.000000e-02</td>\n",
              "      <td>6.400000e+01</td>\n",
              "      <td>6.200000e+01</td>\n",
              "      <td>6.700000e+01</td>\n",
              "      <td>2.986000e+01</td>\n",
              "      <td>1.000000e+01</td>\n",
              "      <td>7.000000e+00</td>\n",
              "      <td>0.000000e+00</td>\n",
              "    </tr>\n",
              "    <tr>\n",
              "      <th>75%</th>\n",
              "      <td>2.000000e+00</td>\n",
              "      <td>4.008496e+01</td>\n",
              "      <td>-8.035368e+01</td>\n",
              "      <td>4.017892e+01</td>\n",
              "      <td>-8.024709e+01</td>\n",
              "      <td>4.640000e-01</td>\n",
              "      <td>7.600000e+01</td>\n",
              "      <td>7.500000e+01</td>\n",
              "      <td>8.400000e+01</td>\n",
              "      <td>3.003000e+01</td>\n",
              "      <td>1.000000e+01</td>\n",
              "      <td>1.040000e+01</td>\n",
              "      <td>0.000000e+00</td>\n",
              "    </tr>\n",
              "    <tr>\n",
              "      <th>max</th>\n",
              "      <td>4.000000e+00</td>\n",
              "      <td>4.900220e+01</td>\n",
              "      <td>-6.711317e+01</td>\n",
              "      <td>4.907500e+01</td>\n",
              "      <td>-6.710924e+01</td>\n",
              "      <td>4.417500e+02</td>\n",
              "      <td>2.070000e+02</td>\n",
              "      <td>2.070000e+02</td>\n",
              "      <td>1.000000e+02</td>\n",
              "      <td>5.863000e+01</td>\n",
              "      <td>1.400000e+02</td>\n",
              "      <td>1.087000e+03</td>\n",
              "      <td>3.647000e+01</td>\n",
              "    </tr>\n",
              "  </tbody>\n",
              "</table>\n",
              "</div>"
            ],
            "text/plain": [
              "           Severity     Start_Lat     Start_Lng       End_Lat       End_Lng  \\\n",
              "count  7.728394e+06  7.728394e+06  7.728394e+06  4.325632e+06  4.325632e+06   \n",
              "mean   2.212384e+00  3.620119e+01 -9.470255e+01  3.626183e+01 -9.572557e+01   \n",
              "std    4.875310e-01  5.076079e+00  1.739176e+01  5.272905e+00  1.810793e+01   \n",
              "min    1.000000e+00  2.455480e+01 -1.246238e+02  2.456601e+01 -1.245457e+02   \n",
              "25%    2.000000e+00  3.339963e+01 -1.172194e+02  3.346207e+01 -1.177543e+02   \n",
              "50%    2.000000e+00  3.582397e+01 -8.776662e+01  3.618350e+01 -8.802789e+01   \n",
              "75%    2.000000e+00  4.008496e+01 -8.035368e+01  4.017892e+01 -8.024709e+01   \n",
              "max    4.000000e+00  4.900220e+01 -6.711317e+01  4.907500e+01 -6.710924e+01   \n",
              "\n",
              "       Distance(mi)  Temperature(F)  Wind_Chill(F)   Humidity(%)  \\\n",
              "count  7.728394e+06    7.564541e+06   5.729375e+06  7.554250e+06   \n",
              "mean   5.618420e-01    6.166329e+01   5.825105e+01  6.483104e+01   \n",
              "std    1.776811e+00    1.901365e+01   2.238983e+01  2.282097e+01   \n",
              "min    0.000000e+00   -8.900000e+01  -8.900000e+01  1.000000e+00   \n",
              "25%    0.000000e+00    4.900000e+01   4.300000e+01  4.800000e+01   \n",
              "50%    3.000000e-02    6.400000e+01   6.200000e+01  6.700000e+01   \n",
              "75%    4.640000e-01    7.600000e+01   7.500000e+01  8.400000e+01   \n",
              "max    4.417500e+02    2.070000e+02   2.070000e+02  1.000000e+02   \n",
              "\n",
              "       Pressure(in)  Visibility(mi)  Wind_Speed(mph)  Precipitation(in)  \n",
              "count  7.587715e+06    7.551296e+06     7.157161e+06       5.524808e+06  \n",
              "mean   2.953899e+01    9.090376e+00     7.685490e+00       8.407000e-03  \n",
              "std    1.006190e+00    2.688316e+00     5.424983e+00       1.102250e-01  \n",
              "min    0.000000e+00    0.000000e+00     0.000000e+00       0.000000e+00  \n",
              "25%    2.937000e+01    1.000000e+01     4.600000e+00       0.000000e+00  \n",
              "50%    2.986000e+01    1.000000e+01     7.000000e+00       0.000000e+00  \n",
              "75%    3.003000e+01    1.000000e+01     1.040000e+01       0.000000e+00  \n",
              "max    5.863000e+01    1.400000e+02     1.087000e+03       3.647000e+01  "
            ]
          },
          "execution_count": 7,
          "metadata": {},
          "output_type": "execute_result"
        }
      ],
      "source": [
        "df_total.describe()"
      ]
    },
    {
      "cell_type": "code",
      "execution_count": 8,
      "metadata": {
        "colab": {
          "base_uri": "https://localhost:8080/",
          "height": 759
        },
        "id": "Hh3mZO7nF3Fb",
        "outputId": "5394ac7d-5892-4da5-a845-220352689c63"
      },
      "outputs": [
        {
          "data": {
            "text/html": [
              "<div>\n",
              "<style scoped>\n",
              "    .dataframe tbody tr th:only-of-type {\n",
              "        vertical-align: middle;\n",
              "    }\n",
              "\n",
              "    .dataframe tbody tr th {\n",
              "        vertical-align: top;\n",
              "    }\n",
              "\n",
              "    .dataframe thead th {\n",
              "        text-align: right;\n",
              "    }\n",
              "</style>\n",
              "<table border=\"1\" class=\"dataframe\">\n",
              "  <thead>\n",
              "    <tr style=\"text-align: right;\">\n",
              "      <th></th>\n",
              "      <th>ID</th>\n",
              "      <th>Source</th>\n",
              "      <th>Severity</th>\n",
              "      <th>Start_Time</th>\n",
              "      <th>End_Time</th>\n",
              "      <th>Start_Lat</th>\n",
              "      <th>Start_Lng</th>\n",
              "      <th>End_Lat</th>\n",
              "      <th>End_Lng</th>\n",
              "      <th>Distance(mi)</th>\n",
              "      <th>...</th>\n",
              "      <th>Roundabout</th>\n",
              "      <th>Station</th>\n",
              "      <th>Stop</th>\n",
              "      <th>Traffic_Calming</th>\n",
              "      <th>Traffic_Signal</th>\n",
              "      <th>Turning_Loop</th>\n",
              "      <th>Sunrise_Sunset</th>\n",
              "      <th>Civil_Twilight</th>\n",
              "      <th>Nautical_Twilight</th>\n",
              "      <th>Astronomical_Twilight</th>\n",
              "    </tr>\n",
              "  </thead>\n",
              "  <tbody>\n",
              "    <tr>\n",
              "      <th>0</th>\n",
              "      <td>A-1</td>\n",
              "      <td>Source2</td>\n",
              "      <td>3</td>\n",
              "      <td>2016-02-08 05:46:00</td>\n",
              "      <td>2016-02-08 11:00:00</td>\n",
              "      <td>39.865147</td>\n",
              "      <td>-84.058723</td>\n",
              "      <td>&lt;NA&gt;</td>\n",
              "      <td>&lt;NA&gt;</td>\n",
              "      <td>0.01</td>\n",
              "      <td>...</td>\n",
              "      <td>False</td>\n",
              "      <td>False</td>\n",
              "      <td>False</td>\n",
              "      <td>False</td>\n",
              "      <td>False</td>\n",
              "      <td>False</td>\n",
              "      <td>Night</td>\n",
              "      <td>Night</td>\n",
              "      <td>Night</td>\n",
              "      <td>Night</td>\n",
              "    </tr>\n",
              "    <tr>\n",
              "      <th>1</th>\n",
              "      <td>A-2</td>\n",
              "      <td>Source2</td>\n",
              "      <td>2</td>\n",
              "      <td>2016-02-08 06:07:59</td>\n",
              "      <td>2016-02-08 06:37:59</td>\n",
              "      <td>39.928059</td>\n",
              "      <td>-82.831184</td>\n",
              "      <td>&lt;NA&gt;</td>\n",
              "      <td>&lt;NA&gt;</td>\n",
              "      <td>0.01</td>\n",
              "      <td>...</td>\n",
              "      <td>False</td>\n",
              "      <td>False</td>\n",
              "      <td>False</td>\n",
              "      <td>False</td>\n",
              "      <td>False</td>\n",
              "      <td>False</td>\n",
              "      <td>Night</td>\n",
              "      <td>Night</td>\n",
              "      <td>Night</td>\n",
              "      <td>Day</td>\n",
              "    </tr>\n",
              "    <tr>\n",
              "      <th>2</th>\n",
              "      <td>A-3</td>\n",
              "      <td>Source2</td>\n",
              "      <td>2</td>\n",
              "      <td>2016-02-08 06:49:27</td>\n",
              "      <td>2016-02-08 07:19:27</td>\n",
              "      <td>39.063148</td>\n",
              "      <td>-84.032608</td>\n",
              "      <td>&lt;NA&gt;</td>\n",
              "      <td>&lt;NA&gt;</td>\n",
              "      <td>0.01</td>\n",
              "      <td>...</td>\n",
              "      <td>False</td>\n",
              "      <td>False</td>\n",
              "      <td>False</td>\n",
              "      <td>False</td>\n",
              "      <td>True</td>\n",
              "      <td>False</td>\n",
              "      <td>Night</td>\n",
              "      <td>Night</td>\n",
              "      <td>Day</td>\n",
              "      <td>Day</td>\n",
              "    </tr>\n",
              "    <tr>\n",
              "      <th>3</th>\n",
              "      <td>A-4</td>\n",
              "      <td>Source2</td>\n",
              "      <td>3</td>\n",
              "      <td>2016-02-08 07:23:34</td>\n",
              "      <td>2016-02-08 07:53:34</td>\n",
              "      <td>39.747753</td>\n",
              "      <td>-84.205582</td>\n",
              "      <td>&lt;NA&gt;</td>\n",
              "      <td>&lt;NA&gt;</td>\n",
              "      <td>0.01</td>\n",
              "      <td>...</td>\n",
              "      <td>False</td>\n",
              "      <td>False</td>\n",
              "      <td>False</td>\n",
              "      <td>False</td>\n",
              "      <td>False</td>\n",
              "      <td>False</td>\n",
              "      <td>Night</td>\n",
              "      <td>Day</td>\n",
              "      <td>Day</td>\n",
              "      <td>Day</td>\n",
              "    </tr>\n",
              "    <tr>\n",
              "      <th>4</th>\n",
              "      <td>A-5</td>\n",
              "      <td>Source2</td>\n",
              "      <td>2</td>\n",
              "      <td>2016-02-08 07:39:07</td>\n",
              "      <td>2016-02-08 08:09:07</td>\n",
              "      <td>39.627781</td>\n",
              "      <td>-84.188354</td>\n",
              "      <td>&lt;NA&gt;</td>\n",
              "      <td>&lt;NA&gt;</td>\n",
              "      <td>0.01</td>\n",
              "      <td>...</td>\n",
              "      <td>False</td>\n",
              "      <td>False</td>\n",
              "      <td>False</td>\n",
              "      <td>False</td>\n",
              "      <td>True</td>\n",
              "      <td>False</td>\n",
              "      <td>Day</td>\n",
              "      <td>Day</td>\n",
              "      <td>Day</td>\n",
              "      <td>Day</td>\n",
              "    </tr>\n",
              "    <tr>\n",
              "      <th>5</th>\n",
              "      <td>A-6</td>\n",
              "      <td>Source2</td>\n",
              "      <td>3</td>\n",
              "      <td>2016-02-08 07:44:26</td>\n",
              "      <td>2016-02-08 08:14:26</td>\n",
              "      <td>40.100590</td>\n",
              "      <td>-82.925194</td>\n",
              "      <td>&lt;NA&gt;</td>\n",
              "      <td>&lt;NA&gt;</td>\n",
              "      <td>0.01</td>\n",
              "      <td>...</td>\n",
              "      <td>False</td>\n",
              "      <td>False</td>\n",
              "      <td>False</td>\n",
              "      <td>False</td>\n",
              "      <td>False</td>\n",
              "      <td>False</td>\n",
              "      <td>Day</td>\n",
              "      <td>Day</td>\n",
              "      <td>Day</td>\n",
              "      <td>Day</td>\n",
              "    </tr>\n",
              "    <tr>\n",
              "      <th>6</th>\n",
              "      <td>A-7</td>\n",
              "      <td>Source2</td>\n",
              "      <td>2</td>\n",
              "      <td>2016-02-08 07:59:35</td>\n",
              "      <td>2016-02-08 08:29:35</td>\n",
              "      <td>39.758274</td>\n",
              "      <td>-84.230507</td>\n",
              "      <td>&lt;NA&gt;</td>\n",
              "      <td>&lt;NA&gt;</td>\n",
              "      <td>0.00</td>\n",
              "      <td>...</td>\n",
              "      <td>False</td>\n",
              "      <td>False</td>\n",
              "      <td>False</td>\n",
              "      <td>False</td>\n",
              "      <td>False</td>\n",
              "      <td>False</td>\n",
              "      <td>Day</td>\n",
              "      <td>Day</td>\n",
              "      <td>Day</td>\n",
              "      <td>Day</td>\n",
              "    </tr>\n",
              "    <tr>\n",
              "      <th>7</th>\n",
              "      <td>A-8</td>\n",
              "      <td>Source2</td>\n",
              "      <td>3</td>\n",
              "      <td>2016-02-08 07:59:58</td>\n",
              "      <td>2016-02-08 08:29:58</td>\n",
              "      <td>39.770382</td>\n",
              "      <td>-84.194901</td>\n",
              "      <td>&lt;NA&gt;</td>\n",
              "      <td>&lt;NA&gt;</td>\n",
              "      <td>0.01</td>\n",
              "      <td>...</td>\n",
              "      <td>False</td>\n",
              "      <td>False</td>\n",
              "      <td>False</td>\n",
              "      <td>False</td>\n",
              "      <td>False</td>\n",
              "      <td>False</td>\n",
              "      <td>Day</td>\n",
              "      <td>Day</td>\n",
              "      <td>Day</td>\n",
              "      <td>Day</td>\n",
              "    </tr>\n",
              "    <tr>\n",
              "      <th>8</th>\n",
              "      <td>A-9</td>\n",
              "      <td>Source2</td>\n",
              "      <td>2</td>\n",
              "      <td>2016-02-08 08:00:40</td>\n",
              "      <td>2016-02-08 08:30:40</td>\n",
              "      <td>39.778061</td>\n",
              "      <td>-84.172005</td>\n",
              "      <td>&lt;NA&gt;</td>\n",
              "      <td>&lt;NA&gt;</td>\n",
              "      <td>0.00</td>\n",
              "      <td>...</td>\n",
              "      <td>False</td>\n",
              "      <td>False</td>\n",
              "      <td>False</td>\n",
              "      <td>False</td>\n",
              "      <td>False</td>\n",
              "      <td>False</td>\n",
              "      <td>Day</td>\n",
              "      <td>Day</td>\n",
              "      <td>Day</td>\n",
              "      <td>Day</td>\n",
              "    </tr>\n",
              "    <tr>\n",
              "      <th>9</th>\n",
              "      <td>A-10</td>\n",
              "      <td>Source2</td>\n",
              "      <td>3</td>\n",
              "      <td>2016-02-08 08:10:04</td>\n",
              "      <td>2016-02-08 08:40:04</td>\n",
              "      <td>40.100590</td>\n",
              "      <td>-82.925194</td>\n",
              "      <td>&lt;NA&gt;</td>\n",
              "      <td>&lt;NA&gt;</td>\n",
              "      <td>0.01</td>\n",
              "      <td>...</td>\n",
              "      <td>False</td>\n",
              "      <td>False</td>\n",
              "      <td>False</td>\n",
              "      <td>False</td>\n",
              "      <td>False</td>\n",
              "      <td>False</td>\n",
              "      <td>Day</td>\n",
              "      <td>Day</td>\n",
              "      <td>Day</td>\n",
              "      <td>Day</td>\n",
              "    </tr>\n",
              "  </tbody>\n",
              "</table>\n",
              "<p>10 rows × 46 columns</p>\n",
              "</div>"
            ],
            "text/plain": [
              "     ID   Source  Severity           Start_Time             End_Time  \\\n",
              "0   A-1  Source2         3  2016-02-08 05:46:00  2016-02-08 11:00:00   \n",
              "1   A-2  Source2         2  2016-02-08 06:07:59  2016-02-08 06:37:59   \n",
              "2   A-3  Source2         2  2016-02-08 06:49:27  2016-02-08 07:19:27   \n",
              "3   A-4  Source2         3  2016-02-08 07:23:34  2016-02-08 07:53:34   \n",
              "4   A-5  Source2         2  2016-02-08 07:39:07  2016-02-08 08:09:07   \n",
              "5   A-6  Source2         3  2016-02-08 07:44:26  2016-02-08 08:14:26   \n",
              "6   A-7  Source2         2  2016-02-08 07:59:35  2016-02-08 08:29:35   \n",
              "7   A-8  Source2         3  2016-02-08 07:59:58  2016-02-08 08:29:58   \n",
              "8   A-9  Source2         2  2016-02-08 08:00:40  2016-02-08 08:30:40   \n",
              "9  A-10  Source2         3  2016-02-08 08:10:04  2016-02-08 08:40:04   \n",
              "\n",
              "   Start_Lat  Start_Lng End_Lat End_Lng  Distance(mi)  ... Roundabout  \\\n",
              "0  39.865147 -84.058723    <NA>    <NA>          0.01  ...      False   \n",
              "1  39.928059 -82.831184    <NA>    <NA>          0.01  ...      False   \n",
              "2  39.063148 -84.032608    <NA>    <NA>          0.01  ...      False   \n",
              "3  39.747753 -84.205582    <NA>    <NA>          0.01  ...      False   \n",
              "4  39.627781 -84.188354    <NA>    <NA>          0.01  ...      False   \n",
              "5  40.100590 -82.925194    <NA>    <NA>          0.01  ...      False   \n",
              "6  39.758274 -84.230507    <NA>    <NA>          0.00  ...      False   \n",
              "7  39.770382 -84.194901    <NA>    <NA>          0.01  ...      False   \n",
              "8  39.778061 -84.172005    <NA>    <NA>          0.00  ...      False   \n",
              "9  40.100590 -82.925194    <NA>    <NA>          0.01  ...      False   \n",
              "\n",
              "   Station   Stop  Traffic_Calming  Traffic_Signal  Turning_Loop  \\\n",
              "0    False  False            False           False         False   \n",
              "1    False  False            False           False         False   \n",
              "2    False  False            False            True         False   \n",
              "3    False  False            False           False         False   \n",
              "4    False  False            False            True         False   \n",
              "5    False  False            False           False         False   \n",
              "6    False  False            False           False         False   \n",
              "7    False  False            False           False         False   \n",
              "8    False  False            False           False         False   \n",
              "9    False  False            False           False         False   \n",
              "\n",
              "   Sunrise_Sunset Civil_Twilight Nautical_Twilight Astronomical_Twilight  \n",
              "0           Night          Night             Night                 Night  \n",
              "1           Night          Night             Night                   Day  \n",
              "2           Night          Night               Day                   Day  \n",
              "3           Night            Day               Day                   Day  \n",
              "4             Day            Day               Day                   Day  \n",
              "5             Day            Day               Day                   Day  \n",
              "6             Day            Day               Day                   Day  \n",
              "7             Day            Day               Day                   Day  \n",
              "8             Day            Day               Day                   Day  \n",
              "9             Day            Day               Day                   Day  \n",
              "\n",
              "[10 rows x 46 columns]"
            ]
          },
          "execution_count": 8,
          "metadata": {},
          "output_type": "execute_result"
        }
      ],
      "source": [
        "df_total.head(10)"
      ]
    },
    {
      "cell_type": "code",
      "execution_count": 9,
      "metadata": {
        "id": "8c4Z5G0uhRq_"
      },
      "outputs": [],
      "source": [
        "df = df_total[[\"Severity\" , \"Weather_Timestamp\", \"Temperature(F)\" , \"Wind_Chill(F)\" , \"Humidity(%)\" , \"Pressure(in)\" , \"Visibility(mi)\" , \"Wind_Direction\" , \"Wind_Speed(mph)\" ,\"Precipitation(in)\", \"Weather_Condition\"]]"
      ]
    },
    {
      "cell_type": "code",
      "execution_count": 10,
      "metadata": {
        "colab": {
          "base_uri": "https://localhost:8080/",
          "height": 363
        },
        "id": "Yz67pV03jhpF",
        "outputId": "0688e1db-cd17-47d3-a93f-ce6718f41a6b"
      },
      "outputs": [
        {
          "data": {
            "text/html": [
              "<div>\n",
              "<style scoped>\n",
              "    .dataframe tbody tr th:only-of-type {\n",
              "        vertical-align: middle;\n",
              "    }\n",
              "\n",
              "    .dataframe tbody tr th {\n",
              "        vertical-align: top;\n",
              "    }\n",
              "\n",
              "    .dataframe thead th {\n",
              "        text-align: right;\n",
              "    }\n",
              "</style>\n",
              "<table border=\"1\" class=\"dataframe\">\n",
              "  <thead>\n",
              "    <tr style=\"text-align: right;\">\n",
              "      <th></th>\n",
              "      <th>Severity</th>\n",
              "      <th>Weather_Timestamp</th>\n",
              "      <th>Temperature(F)</th>\n",
              "      <th>Wind_Chill(F)</th>\n",
              "      <th>Humidity(%)</th>\n",
              "      <th>Pressure(in)</th>\n",
              "      <th>Visibility(mi)</th>\n",
              "      <th>Wind_Direction</th>\n",
              "      <th>Wind_Speed(mph)</th>\n",
              "      <th>Precipitation(in)</th>\n",
              "      <th>Weather_Condition</th>\n",
              "    </tr>\n",
              "  </thead>\n",
              "  <tbody>\n",
              "    <tr>\n",
              "      <th>0</th>\n",
              "      <td>3</td>\n",
              "      <td>2016-02-08 05:58:00</td>\n",
              "      <td>36.9</td>\n",
              "      <td>&lt;NA&gt;</td>\n",
              "      <td>91.0</td>\n",
              "      <td>29.68</td>\n",
              "      <td>10.0</td>\n",
              "      <td>Calm</td>\n",
              "      <td>&lt;NA&gt;</td>\n",
              "      <td>0.02</td>\n",
              "      <td>Light Rain</td>\n",
              "    </tr>\n",
              "    <tr>\n",
              "      <th>1</th>\n",
              "      <td>2</td>\n",
              "      <td>2016-02-08 05:51:00</td>\n",
              "      <td>37.9</td>\n",
              "      <td>&lt;NA&gt;</td>\n",
              "      <td>100.0</td>\n",
              "      <td>29.65</td>\n",
              "      <td>10.0</td>\n",
              "      <td>Calm</td>\n",
              "      <td>&lt;NA&gt;</td>\n",
              "      <td>0.0</td>\n",
              "      <td>Light Rain</td>\n",
              "    </tr>\n",
              "    <tr>\n",
              "      <th>2</th>\n",
              "      <td>2</td>\n",
              "      <td>2016-02-08 06:56:00</td>\n",
              "      <td>36.0</td>\n",
              "      <td>33.3</td>\n",
              "      <td>100.0</td>\n",
              "      <td>29.67</td>\n",
              "      <td>10.0</td>\n",
              "      <td>SW</td>\n",
              "      <td>3.5</td>\n",
              "      <td>&lt;NA&gt;</td>\n",
              "      <td>Overcast</td>\n",
              "    </tr>\n",
              "    <tr>\n",
              "      <th>3</th>\n",
              "      <td>3</td>\n",
              "      <td>2016-02-08 07:38:00</td>\n",
              "      <td>35.1</td>\n",
              "      <td>31.0</td>\n",
              "      <td>96.0</td>\n",
              "      <td>29.64</td>\n",
              "      <td>9.0</td>\n",
              "      <td>SW</td>\n",
              "      <td>4.6</td>\n",
              "      <td>&lt;NA&gt;</td>\n",
              "      <td>Mostly Cloudy</td>\n",
              "    </tr>\n",
              "    <tr>\n",
              "      <th>4</th>\n",
              "      <td>2</td>\n",
              "      <td>2016-02-08 07:53:00</td>\n",
              "      <td>36.0</td>\n",
              "      <td>33.3</td>\n",
              "      <td>89.0</td>\n",
              "      <td>29.65</td>\n",
              "      <td>6.0</td>\n",
              "      <td>SW</td>\n",
              "      <td>3.5</td>\n",
              "      <td>&lt;NA&gt;</td>\n",
              "      <td>Mostly Cloudy</td>\n",
              "    </tr>\n",
              "    <tr>\n",
              "      <th>5</th>\n",
              "      <td>3</td>\n",
              "      <td>2016-02-08 07:51:00</td>\n",
              "      <td>37.9</td>\n",
              "      <td>35.5</td>\n",
              "      <td>97.0</td>\n",
              "      <td>29.63</td>\n",
              "      <td>7.0</td>\n",
              "      <td>SSW</td>\n",
              "      <td>3.5</td>\n",
              "      <td>0.03</td>\n",
              "      <td>Light Rain</td>\n",
              "    </tr>\n",
              "    <tr>\n",
              "      <th>6</th>\n",
              "      <td>2</td>\n",
              "      <td>2016-02-08 07:56:00</td>\n",
              "      <td>34.0</td>\n",
              "      <td>31.0</td>\n",
              "      <td>100.0</td>\n",
              "      <td>29.66</td>\n",
              "      <td>7.0</td>\n",
              "      <td>WSW</td>\n",
              "      <td>3.5</td>\n",
              "      <td>&lt;NA&gt;</td>\n",
              "      <td>Overcast</td>\n",
              "    </tr>\n",
              "    <tr>\n",
              "      <th>7</th>\n",
              "      <td>3</td>\n",
              "      <td>2016-02-08 07:56:00</td>\n",
              "      <td>34.0</td>\n",
              "      <td>31.0</td>\n",
              "      <td>100.0</td>\n",
              "      <td>29.66</td>\n",
              "      <td>7.0</td>\n",
              "      <td>WSW</td>\n",
              "      <td>3.5</td>\n",
              "      <td>&lt;NA&gt;</td>\n",
              "      <td>Overcast</td>\n",
              "    </tr>\n",
              "    <tr>\n",
              "      <th>8</th>\n",
              "      <td>2</td>\n",
              "      <td>2016-02-08 07:58:00</td>\n",
              "      <td>33.3</td>\n",
              "      <td>&lt;NA&gt;</td>\n",
              "      <td>99.0</td>\n",
              "      <td>29.67</td>\n",
              "      <td>5.0</td>\n",
              "      <td>SW</td>\n",
              "      <td>1.2</td>\n",
              "      <td>&lt;NA&gt;</td>\n",
              "      <td>Mostly Cloudy</td>\n",
              "    </tr>\n",
              "    <tr>\n",
              "      <th>9</th>\n",
              "      <td>3</td>\n",
              "      <td>2016-02-08 08:28:00</td>\n",
              "      <td>37.4</td>\n",
              "      <td>33.8</td>\n",
              "      <td>100.0</td>\n",
              "      <td>29.62</td>\n",
              "      <td>3.0</td>\n",
              "      <td>SSW</td>\n",
              "      <td>4.6</td>\n",
              "      <td>0.02</td>\n",
              "      <td>Light Rain</td>\n",
              "    </tr>\n",
              "  </tbody>\n",
              "</table>\n",
              "</div>"
            ],
            "text/plain": [
              "   Severity    Weather_Timestamp  Temperature(F) Wind_Chill(F)  Humidity(%)  \\\n",
              "0         3  2016-02-08 05:58:00            36.9          <NA>         91.0   \n",
              "1         2  2016-02-08 05:51:00            37.9          <NA>        100.0   \n",
              "2         2  2016-02-08 06:56:00            36.0          33.3        100.0   \n",
              "3         3  2016-02-08 07:38:00            35.1          31.0         96.0   \n",
              "4         2  2016-02-08 07:53:00            36.0          33.3         89.0   \n",
              "5         3  2016-02-08 07:51:00            37.9          35.5         97.0   \n",
              "6         2  2016-02-08 07:56:00            34.0          31.0        100.0   \n",
              "7         3  2016-02-08 07:56:00            34.0          31.0        100.0   \n",
              "8         2  2016-02-08 07:58:00            33.3          <NA>         99.0   \n",
              "9         3  2016-02-08 08:28:00            37.4          33.8        100.0   \n",
              "\n",
              "   Pressure(in)  Visibility(mi) Wind_Direction Wind_Speed(mph)  \\\n",
              "0         29.68            10.0           Calm            <NA>   \n",
              "1         29.65            10.0           Calm            <NA>   \n",
              "2         29.67            10.0             SW             3.5   \n",
              "3         29.64             9.0             SW             4.6   \n",
              "4         29.65             6.0             SW             3.5   \n",
              "5         29.63             7.0            SSW             3.5   \n",
              "6         29.66             7.0            WSW             3.5   \n",
              "7         29.66             7.0            WSW             3.5   \n",
              "8         29.67             5.0             SW             1.2   \n",
              "9         29.62             3.0            SSW             4.6   \n",
              "\n",
              "  Precipitation(in) Weather_Condition  \n",
              "0              0.02        Light Rain  \n",
              "1               0.0        Light Rain  \n",
              "2              <NA>          Overcast  \n",
              "3              <NA>     Mostly Cloudy  \n",
              "4              <NA>     Mostly Cloudy  \n",
              "5              0.03        Light Rain  \n",
              "6              <NA>          Overcast  \n",
              "7              <NA>          Overcast  \n",
              "8              <NA>     Mostly Cloudy  \n",
              "9              0.02        Light Rain  "
            ]
          },
          "execution_count": 10,
          "metadata": {},
          "output_type": "execute_result"
        }
      ],
      "source": [
        "df.head(10)"
      ]
    },
    {
      "cell_type": "code",
      "execution_count": 11,
      "metadata": {
        "colab": {
          "base_uri": "https://localhost:8080/",
          "height": 300
        },
        "id": "zfQrmeI3j5vG",
        "outputId": "647c27ce-687b-4698-b947-ed7ac2f195f9"
      },
      "outputs": [
        {
          "data": {
            "text/html": [
              "<div>\n",
              "<style scoped>\n",
              "    .dataframe tbody tr th:only-of-type {\n",
              "        vertical-align: middle;\n",
              "    }\n",
              "\n",
              "    .dataframe tbody tr th {\n",
              "        vertical-align: top;\n",
              "    }\n",
              "\n",
              "    .dataframe thead th {\n",
              "        text-align: right;\n",
              "    }\n",
              "</style>\n",
              "<table border=\"1\" class=\"dataframe\">\n",
              "  <thead>\n",
              "    <tr style=\"text-align: right;\">\n",
              "      <th></th>\n",
              "      <th>Severity</th>\n",
              "      <th>Temperature(F)</th>\n",
              "      <th>Wind_Chill(F)</th>\n",
              "      <th>Humidity(%)</th>\n",
              "      <th>Pressure(in)</th>\n",
              "      <th>Visibility(mi)</th>\n",
              "      <th>Wind_Speed(mph)</th>\n",
              "      <th>Precipitation(in)</th>\n",
              "    </tr>\n",
              "  </thead>\n",
              "  <tbody>\n",
              "    <tr>\n",
              "      <th>count</th>\n",
              "      <td>7.728394e+06</td>\n",
              "      <td>7.564541e+06</td>\n",
              "      <td>5.729375e+06</td>\n",
              "      <td>7.554250e+06</td>\n",
              "      <td>7.587715e+06</td>\n",
              "      <td>7.551296e+06</td>\n",
              "      <td>7.157161e+06</td>\n",
              "      <td>5.524808e+06</td>\n",
              "    </tr>\n",
              "    <tr>\n",
              "      <th>mean</th>\n",
              "      <td>2.212384e+00</td>\n",
              "      <td>6.166329e+01</td>\n",
              "      <td>5.825105e+01</td>\n",
              "      <td>6.483104e+01</td>\n",
              "      <td>2.953899e+01</td>\n",
              "      <td>9.090376e+00</td>\n",
              "      <td>7.685490e+00</td>\n",
              "      <td>8.407000e-03</td>\n",
              "    </tr>\n",
              "    <tr>\n",
              "      <th>std</th>\n",
              "      <td>4.875310e-01</td>\n",
              "      <td>1.901365e+01</td>\n",
              "      <td>2.238983e+01</td>\n",
              "      <td>2.282097e+01</td>\n",
              "      <td>1.006190e+00</td>\n",
              "      <td>2.688316e+00</td>\n",
              "      <td>5.424983e+00</td>\n",
              "      <td>1.102250e-01</td>\n",
              "    </tr>\n",
              "    <tr>\n",
              "      <th>min</th>\n",
              "      <td>1.000000e+00</td>\n",
              "      <td>-8.900000e+01</td>\n",
              "      <td>-8.900000e+01</td>\n",
              "      <td>1.000000e+00</td>\n",
              "      <td>0.000000e+00</td>\n",
              "      <td>0.000000e+00</td>\n",
              "      <td>0.000000e+00</td>\n",
              "      <td>0.000000e+00</td>\n",
              "    </tr>\n",
              "    <tr>\n",
              "      <th>25%</th>\n",
              "      <td>2.000000e+00</td>\n",
              "      <td>4.900000e+01</td>\n",
              "      <td>4.300000e+01</td>\n",
              "      <td>4.800000e+01</td>\n",
              "      <td>2.937000e+01</td>\n",
              "      <td>1.000000e+01</td>\n",
              "      <td>4.600000e+00</td>\n",
              "      <td>0.000000e+00</td>\n",
              "    </tr>\n",
              "    <tr>\n",
              "      <th>50%</th>\n",
              "      <td>2.000000e+00</td>\n",
              "      <td>6.400000e+01</td>\n",
              "      <td>6.200000e+01</td>\n",
              "      <td>6.700000e+01</td>\n",
              "      <td>2.986000e+01</td>\n",
              "      <td>1.000000e+01</td>\n",
              "      <td>7.000000e+00</td>\n",
              "      <td>0.000000e+00</td>\n",
              "    </tr>\n",
              "    <tr>\n",
              "      <th>75%</th>\n",
              "      <td>2.000000e+00</td>\n",
              "      <td>7.600000e+01</td>\n",
              "      <td>7.500000e+01</td>\n",
              "      <td>8.400000e+01</td>\n",
              "      <td>3.003000e+01</td>\n",
              "      <td>1.000000e+01</td>\n",
              "      <td>1.040000e+01</td>\n",
              "      <td>0.000000e+00</td>\n",
              "    </tr>\n",
              "    <tr>\n",
              "      <th>max</th>\n",
              "      <td>4.000000e+00</td>\n",
              "      <td>2.070000e+02</td>\n",
              "      <td>2.070000e+02</td>\n",
              "      <td>1.000000e+02</td>\n",
              "      <td>5.863000e+01</td>\n",
              "      <td>1.400000e+02</td>\n",
              "      <td>1.087000e+03</td>\n",
              "      <td>3.647000e+01</td>\n",
              "    </tr>\n",
              "  </tbody>\n",
              "</table>\n",
              "</div>"
            ],
            "text/plain": [
              "           Severity  Temperature(F)  Wind_Chill(F)   Humidity(%)  \\\n",
              "count  7.728394e+06    7.564541e+06   5.729375e+06  7.554250e+06   \n",
              "mean   2.212384e+00    6.166329e+01   5.825105e+01  6.483104e+01   \n",
              "std    4.875310e-01    1.901365e+01   2.238983e+01  2.282097e+01   \n",
              "min    1.000000e+00   -8.900000e+01  -8.900000e+01  1.000000e+00   \n",
              "25%    2.000000e+00    4.900000e+01   4.300000e+01  4.800000e+01   \n",
              "50%    2.000000e+00    6.400000e+01   6.200000e+01  6.700000e+01   \n",
              "75%    2.000000e+00    7.600000e+01   7.500000e+01  8.400000e+01   \n",
              "max    4.000000e+00    2.070000e+02   2.070000e+02  1.000000e+02   \n",
              "\n",
              "       Pressure(in)  Visibility(mi)  Wind_Speed(mph)  Precipitation(in)  \n",
              "count  7.587715e+06    7.551296e+06     7.157161e+06       5.524808e+06  \n",
              "mean   2.953899e+01    9.090376e+00     7.685490e+00       8.407000e-03  \n",
              "std    1.006190e+00    2.688316e+00     5.424983e+00       1.102250e-01  \n",
              "min    0.000000e+00    0.000000e+00     0.000000e+00       0.000000e+00  \n",
              "25%    2.937000e+01    1.000000e+01     4.600000e+00       0.000000e+00  \n",
              "50%    2.986000e+01    1.000000e+01     7.000000e+00       0.000000e+00  \n",
              "75%    3.003000e+01    1.000000e+01     1.040000e+01       0.000000e+00  \n",
              "max    5.863000e+01    1.400000e+02     1.087000e+03       3.647000e+01  "
            ]
          },
          "execution_count": 11,
          "metadata": {},
          "output_type": "execute_result"
        }
      ],
      "source": [
        "df.describe()"
      ]
    },
    {
      "cell_type": "markdown",
      "metadata": {
        "id": "WqgShtp60_0Y"
      },
      "source": [
        "# پیدا کردن تعدار خالی ها هر ستون"
      ]
    },
    {
      "cell_type": "code",
      "execution_count": 12,
      "metadata": {
        "colab": {
          "base_uri": "https://localhost:8080/"
        },
        "id": "pXVhwKQOzUK8",
        "outputId": "414c3403-403c-4fac-c6ee-43dca849fc4c"
      },
      "outputs": [
        {
          "name": "stdout",
          "output_type": "stream",
          "text": [
            "Severity                   0\n",
            "Weather_Timestamp     120228\n",
            "Temperature(F)        163853\n",
            "Wind_Chill(F)        1999019\n",
            "Humidity(%)           174144\n",
            "Pressure(in)          140679\n",
            "Visibility(mi)        177098\n",
            "Wind_Direction        175206\n",
            "Wind_Speed(mph)       571233\n",
            "Precipitation(in)    2203586\n",
            "Weather_Condition     173459\n",
            "dtype: int64\n"
          ]
        }
      ],
      "source": [
        "print(df.isna().sum())\n"
      ]
    },
    {
      "cell_type": "markdown",
      "metadata": {
        "id": "fr-vNWz82CVZ"
      },
      "source": [
        "ستون Precipitation\n",
        "\n",
        "ستون wind chill\n",
        "\n",
        "به دلیل تعداد خالی های خیلی زیاد بهتر است حذف شوند به نام جدید ذخیره میشود"
      ]
    },
    {
      "cell_type": "code",
      "execution_count": 13,
      "metadata": {
        "colab": {
          "base_uri": "https://localhost:8080/"
        },
        "id": "XPPwKyvA2cYN",
        "outputId": "9b3ea2dc-52fb-4541-cc3a-4c04958763e0"
      },
      "outputs": [
        {
          "name": "stdout",
          "output_type": "stream",
          "text": [
            "<class 'cudf.core.dataframe.DataFrame'>\n",
            "RangeIndex: 7728394 entries, 0 to 7728393\n",
            "Data columns (total 9 columns):\n",
            " #   Column             Dtype\n",
            "---  ------             -----\n",
            " 0   Severity           int64\n",
            " 1   Weather_Timestamp  object\n",
            " 2   Temperature(F)     float64\n",
            " 3   Humidity(%)        float64\n",
            " 4   Pressure(in)       float64\n",
            " 5   Visibility(mi)     float64\n",
            " 6   Wind_Direction     object\n",
            " 7   Wind_Speed(mph)    float64\n",
            " 8   Weather_Condition  object\n",
            "dtypes: float64(5), int64(1), object(3)\n",
            "memory usage: 663.2+ MB\n"
          ]
        }
      ],
      "source": [
        "df1 = df.drop(columns=[\"Precipitation(in)\", \"Wind_Chill(F)\"])\n",
        "df1.head()\n",
        "df1.info()"
      ]
    },
    {
      "cell_type": "code",
      "execution_count": 14,
      "metadata": {
        "colab": {
          "base_uri": "https://localhost:8080/"
        },
        "id": "XtsFX8r23fbD",
        "outputId": "b0ba3736-0e11-4e1a-e0de-be2cd3e05ded"
      },
      "outputs": [
        {
          "name": "stdout",
          "output_type": "stream",
          "text": [
            "Severity                  0\n",
            "Weather_Timestamp    120228\n",
            "Temperature(F)       163853\n",
            "Humidity(%)          174144\n",
            "Pressure(in)         140679\n",
            "Visibility(mi)       177098\n",
            "Wind_Direction       175206\n",
            "Wind_Speed(mph)      571233\n",
            "Weather_Condition    173459\n",
            "dtype: int64\n"
          ]
        }
      ],
      "source": [
        "print(df1.isna().sum())\n"
      ]
    },
    {
      "cell_type": "code",
      "execution_count": 15,
      "metadata": {
        "id": "d84kNHlx40U-"
      },
      "outputs": [],
      "source": [
        "df1[\"Weather_Condition\"].fillna(\"Unknown\", inplace=True)\n",
        "df1[\"Wind_Direction\"].fillna(\"Unknown\", inplace=True)\n",
        "df1[\"Temperature(F)\"] = df1[\"Temperature(F)\"].interpolate(method=\"linear\")\n",
        "df1[\"Humidity(%)\"] = df1[\"Humidity(%)\"].interpolate(method=\"linear\")\n",
        "df1[\"Pressure(in)\"] = df1[\"Pressure(in)\"].interpolate(method=\"linear\")\n",
        "df1[\"Visibility(mi)\"] = df1[\"Visibility(mi)\"].interpolate(method=\"linear\")\n",
        "df1[\"Wind_Speed(mph)\"] = df1[\"Wind_Speed(mph)\"].interpolate(method=\"linear\")\n",
        "\n",
        "\n"
      ]
    },
    {
      "cell_type": "code",
      "execution_count": 16,
      "metadata": {
        "colab": {
          "base_uri": "https://localhost:8080/"
        },
        "id": "bmglm9C36eeA",
        "outputId": "a85e376f-7fd6-4e76-e2f5-f5971c0786bc"
      },
      "outputs": [
        {
          "name": "stdout",
          "output_type": "stream",
          "text": [
            "Severity                  0\n",
            "Weather_Timestamp    120228\n",
            "Temperature(F)            0\n",
            "Humidity(%)               0\n",
            "Pressure(in)              0\n",
            "Visibility(mi)            0\n",
            "Wind_Direction            0\n",
            "Wind_Speed(mph)           2\n",
            "Weather_Condition         0\n",
            "dtype: int64\n"
          ]
        }
      ],
      "source": [
        "print(df1.isna().sum())\n"
      ]
    },
    {
      "cell_type": "code",
      "execution_count": 17,
      "metadata": {
        "id": "FOz6Jn4v80-Q"
      },
      "outputs": [],
      "source": [
        "df1[\"Wind_Speed(mph)\"] = df1[\"Wind_Speed(mph)\"].bfill()\n",
        "df1[\"Weather_Timestamp\"] = df1[\"Weather_Timestamp\"].ffill()\n"
      ]
    },
    {
      "cell_type": "code",
      "execution_count": 18,
      "metadata": {
        "colab": {
          "base_uri": "https://localhost:8080/"
        },
        "id": "XJdvscWMBfo1",
        "outputId": "4c5fb4db-44de-4aa9-f117-dccad45c49e6"
      },
      "outputs": [
        {
          "name": "stdout",
          "output_type": "stream",
          "text": [
            "Severity             0\n",
            "Weather_Timestamp    0\n",
            "Temperature(F)       0\n",
            "Humidity(%)          0\n",
            "Pressure(in)         0\n",
            "Visibility(mi)       0\n",
            "Wind_Direction       0\n",
            "Wind_Speed(mph)      0\n",
            "Weather_Condition    0\n",
            "dtype: int64\n"
          ]
        }
      ],
      "source": [
        "print(df1.isna().sum())\n"
      ]
    },
    {
      "cell_type": "markdown",
      "metadata": {
        "id": "vdcM7czNk_cv"
      },
      "source": [
        "**انکود کردن لیبل دار ها**"
      ]
    },
    {
      "cell_type": "code",
      "execution_count": 19,
      "metadata": {
        "colab": {
          "base_uri": "https://localhost:8080/"
        },
        "id": "QMQkYJhlk-ZL",
        "outputId": "5e2e6c6e-3583-4561-b376-57e0fbdd81fb"
      },
      "outputs": [
        {
          "name": "stdout",
          "output_type": "stream",
          "text": [
            "25\n",
            "######################\n",
            "145\n"
          ]
        }
      ],
      "source": [
        "from sklearn.preprocessing import LabelEncoder\n",
        "\n",
        "encoder = LabelEncoder()\n",
        "\n",
        "conditions1 = df[\"Wind_Direction\"].unique()\n",
        "conditions2 = df[\"Weather_Condition\"].unique()\n",
        "\n",
        "print(len(conditions1))\n",
        "print(\"######################\")\n",
        "print(len(conditions2))\n",
        "\n"
      ]
    },
    {
      "cell_type": "code",
      "execution_count": 20,
      "metadata": {
        "id": "KBr-oqMPmPZj"
      },
      "outputs": [],
      "source": [
        "import numpy as np\n",
        "df1[\"weather_condition_Label\"] = encoder.fit_transform(df1['Weather_Condition'].to_numpy()).astype(np.uint8)"
      ]
    },
    {
      "cell_type": "code",
      "execution_count": 21,
      "metadata": {
        "id": "rUEjzaoAt-oa"
      },
      "outputs": [],
      "source": [
        "df1[\"Wind_Direction_label\"] = encoder.fit_transform(df1['Wind_Direction'].to_numpy()).astype(np.uint8)"
      ]
    },
    {
      "cell_type": "code",
      "execution_count": 22,
      "metadata": {
        "colab": {
          "base_uri": "https://localhost:8080/",
          "height": 383
        },
        "id": "auz0Hv4ttV36",
        "outputId": "bb958783-8ce4-4127-c5de-290e2cb4f57f"
      },
      "outputs": [
        {
          "data": {
            "text/html": [
              "<div>\n",
              "<style scoped>\n",
              "    .dataframe tbody tr th:only-of-type {\n",
              "        vertical-align: middle;\n",
              "    }\n",
              "\n",
              "    .dataframe tbody tr th {\n",
              "        vertical-align: top;\n",
              "    }\n",
              "\n",
              "    .dataframe thead th {\n",
              "        text-align: right;\n",
              "    }\n",
              "</style>\n",
              "<table border=\"1\" class=\"dataframe\">\n",
              "  <thead>\n",
              "    <tr style=\"text-align: right;\">\n",
              "      <th></th>\n",
              "      <th>Severity</th>\n",
              "      <th>Weather_Timestamp</th>\n",
              "      <th>Temperature(F)</th>\n",
              "      <th>Humidity(%)</th>\n",
              "      <th>Pressure(in)</th>\n",
              "      <th>Visibility(mi)</th>\n",
              "      <th>Wind_Direction</th>\n",
              "      <th>Wind_Speed(mph)</th>\n",
              "      <th>Weather_Condition</th>\n",
              "      <th>weather_condition_Label</th>\n",
              "      <th>Wind_Direction_label</th>\n",
              "    </tr>\n",
              "  </thead>\n",
              "  <tbody>\n",
              "    <tr>\n",
              "      <th>0</th>\n",
              "      <td>3</td>\n",
              "      <td>2016-02-08 05:58:00</td>\n",
              "      <td>36.9</td>\n",
              "      <td>91.0</td>\n",
              "      <td>29.68</td>\n",
              "      <td>10.0</td>\n",
              "      <td>Calm</td>\n",
              "      <td>3.5</td>\n",
              "      <td>Light Rain</td>\n",
              "      <td>62</td>\n",
              "      <td>1</td>\n",
              "    </tr>\n",
              "    <tr>\n",
              "      <th>1</th>\n",
              "      <td>2</td>\n",
              "      <td>2016-02-08 05:51:00</td>\n",
              "      <td>37.9</td>\n",
              "      <td>100.0</td>\n",
              "      <td>29.65</td>\n",
              "      <td>10.0</td>\n",
              "      <td>Calm</td>\n",
              "      <td>3.5</td>\n",
              "      <td>Light Rain</td>\n",
              "      <td>62</td>\n",
              "      <td>1</td>\n",
              "    </tr>\n",
              "    <tr>\n",
              "      <th>2</th>\n",
              "      <td>2</td>\n",
              "      <td>2016-02-08 06:56:00</td>\n",
              "      <td>36.0</td>\n",
              "      <td>100.0</td>\n",
              "      <td>29.67</td>\n",
              "      <td>10.0</td>\n",
              "      <td>SW</td>\n",
              "      <td>3.5</td>\n",
              "      <td>Overcast</td>\n",
              "      <td>88</td>\n",
              "      <td>16</td>\n",
              "    </tr>\n",
              "    <tr>\n",
              "      <th>3</th>\n",
              "      <td>3</td>\n",
              "      <td>2016-02-08 07:38:00</td>\n",
              "      <td>35.1</td>\n",
              "      <td>96.0</td>\n",
              "      <td>29.64</td>\n",
              "      <td>9.0</td>\n",
              "      <td>SW</td>\n",
              "      <td>4.6</td>\n",
              "      <td>Mostly Cloudy</td>\n",
              "      <td>85</td>\n",
              "      <td>16</td>\n",
              "    </tr>\n",
              "    <tr>\n",
              "      <th>4</th>\n",
              "      <td>2</td>\n",
              "      <td>2016-02-08 07:53:00</td>\n",
              "      <td>36.0</td>\n",
              "      <td>89.0</td>\n",
              "      <td>29.65</td>\n",
              "      <td>6.0</td>\n",
              "      <td>SW</td>\n",
              "      <td>3.5</td>\n",
              "      <td>Mostly Cloudy</td>\n",
              "      <td>85</td>\n",
              "      <td>16</td>\n",
              "    </tr>\n",
              "    <tr>\n",
              "      <th>5</th>\n",
              "      <td>3</td>\n",
              "      <td>2016-02-08 07:51:00</td>\n",
              "      <td>37.9</td>\n",
              "      <td>97.0</td>\n",
              "      <td>29.63</td>\n",
              "      <td>7.0</td>\n",
              "      <td>SSW</td>\n",
              "      <td>3.5</td>\n",
              "      <td>Light Rain</td>\n",
              "      <td>62</td>\n",
              "      <td>15</td>\n",
              "    </tr>\n",
              "    <tr>\n",
              "      <th>6</th>\n",
              "      <td>2</td>\n",
              "      <td>2016-02-08 07:56:00</td>\n",
              "      <td>34.0</td>\n",
              "      <td>100.0</td>\n",
              "      <td>29.66</td>\n",
              "      <td>7.0</td>\n",
              "      <td>WSW</td>\n",
              "      <td>3.5</td>\n",
              "      <td>Overcast</td>\n",
              "      <td>88</td>\n",
              "      <td>23</td>\n",
              "    </tr>\n",
              "    <tr>\n",
              "      <th>7</th>\n",
              "      <td>3</td>\n",
              "      <td>2016-02-08 07:56:00</td>\n",
              "      <td>34.0</td>\n",
              "      <td>100.0</td>\n",
              "      <td>29.66</td>\n",
              "      <td>7.0</td>\n",
              "      <td>WSW</td>\n",
              "      <td>3.5</td>\n",
              "      <td>Overcast</td>\n",
              "      <td>88</td>\n",
              "      <td>23</td>\n",
              "    </tr>\n",
              "    <tr>\n",
              "      <th>8</th>\n",
              "      <td>2</td>\n",
              "      <td>2016-02-08 07:58:00</td>\n",
              "      <td>33.3</td>\n",
              "      <td>99.0</td>\n",
              "      <td>29.67</td>\n",
              "      <td>5.0</td>\n",
              "      <td>SW</td>\n",
              "      <td>1.2</td>\n",
              "      <td>Mostly Cloudy</td>\n",
              "      <td>85</td>\n",
              "      <td>16</td>\n",
              "    </tr>\n",
              "    <tr>\n",
              "      <th>9</th>\n",
              "      <td>3</td>\n",
              "      <td>2016-02-08 08:28:00</td>\n",
              "      <td>37.4</td>\n",
              "      <td>100.0</td>\n",
              "      <td>29.62</td>\n",
              "      <td>3.0</td>\n",
              "      <td>SSW</td>\n",
              "      <td>4.6</td>\n",
              "      <td>Light Rain</td>\n",
              "      <td>62</td>\n",
              "      <td>15</td>\n",
              "    </tr>\n",
              "  </tbody>\n",
              "</table>\n",
              "</div>"
            ],
            "text/plain": [
              "   Severity    Weather_Timestamp  Temperature(F)  Humidity(%)  Pressure(in)  \\\n",
              "0         3  2016-02-08 05:58:00            36.9         91.0         29.68   \n",
              "1         2  2016-02-08 05:51:00            37.9        100.0         29.65   \n",
              "2         2  2016-02-08 06:56:00            36.0        100.0         29.67   \n",
              "3         3  2016-02-08 07:38:00            35.1         96.0         29.64   \n",
              "4         2  2016-02-08 07:53:00            36.0         89.0         29.65   \n",
              "5         3  2016-02-08 07:51:00            37.9         97.0         29.63   \n",
              "6         2  2016-02-08 07:56:00            34.0        100.0         29.66   \n",
              "7         3  2016-02-08 07:56:00            34.0        100.0         29.66   \n",
              "8         2  2016-02-08 07:58:00            33.3         99.0         29.67   \n",
              "9         3  2016-02-08 08:28:00            37.4        100.0         29.62   \n",
              "\n",
              "   Visibility(mi) Wind_Direction  Wind_Speed(mph) Weather_Condition  \\\n",
              "0            10.0           Calm              3.5        Light Rain   \n",
              "1            10.0           Calm              3.5        Light Rain   \n",
              "2            10.0             SW              3.5          Overcast   \n",
              "3             9.0             SW              4.6     Mostly Cloudy   \n",
              "4             6.0             SW              3.5     Mostly Cloudy   \n",
              "5             7.0            SSW              3.5        Light Rain   \n",
              "6             7.0            WSW              3.5          Overcast   \n",
              "7             7.0            WSW              3.5          Overcast   \n",
              "8             5.0             SW              1.2     Mostly Cloudy   \n",
              "9             3.0            SSW              4.6        Light Rain   \n",
              "\n",
              "   weather_condition_Label  Wind_Direction_label  \n",
              "0                       62                     1  \n",
              "1                       62                     1  \n",
              "2                       88                    16  \n",
              "3                       85                    16  \n",
              "4                       85                    16  \n",
              "5                       62                    15  \n",
              "6                       88                    23  \n",
              "7                       88                    23  \n",
              "8                       85                    16  \n",
              "9                       62                    15  "
            ]
          },
          "execution_count": 22,
          "metadata": {},
          "output_type": "execute_result"
        }
      ],
      "source": [
        "df1.head(10)"
      ]
    },
    {
      "cell_type": "code",
      "execution_count": 23,
      "metadata": {
        "colab": {
          "base_uri": "https://localhost:8080/"
        },
        "id": "5F3SJcKRtWhu",
        "outputId": "a17b8d8a-692c-4804-d0b3-82b281761699"
      },
      "outputs": [
        {
          "name": "stdout",
          "output_type": "stream",
          "text": [
            "<class 'cudf.core.dataframe.DataFrame'>\n",
            "RangeIndex: 7728394 entries, 0 to 7728393\n",
            "Data columns (total 11 columns):\n",
            " #   Column                   Dtype\n",
            "---  ------                   -----\n",
            " 0   Severity                 int64\n",
            " 1   Weather_Timestamp        object\n",
            " 2   Temperature(F)           float64\n",
            " 3   Humidity(%)              float64\n",
            " 4   Pressure(in)             float64\n",
            " 5   Visibility(mi)           float64\n",
            " 6   Wind_Direction           object\n",
            " 7   Wind_Speed(mph)          float64\n",
            " 8   Weather_Condition        object\n",
            " 9   weather_condition_Label  uint8\n",
            " 10  Wind_Direction_label     uint8\n",
            "dtypes: float64(5), int64(1), object(3), uint8(2)\n",
            "memory usage: 675.0+ MB\n"
          ]
        }
      ],
      "source": [
        "df1.info()"
      ]
    },
    {
      "cell_type": "markdown",
      "metadata": {
        "id": "2Hq1Dzgfurp5"
      },
      "source": [
        "# فهمیدن بازه اعدادی هر ستون و تصمیم گیری برای تغییر تایپ آن ها"
      ]
    },
    {
      "cell_type": "code",
      "execution_count": 24,
      "metadata": {
        "colab": {
          "base_uri": "https://localhost:8080/"
        },
        "id": "jRdY5CgFu1ev",
        "outputId": "f9357a88-ae3f-4430-be2e-ca92798a9091"
      },
      "outputs": [
        {
          "name": "stdout",
          "output_type": "stream",
          "text": [
            "           Severity  Temperature(F)  Wind_Chill(F)   Humidity(%)  \\\n",
            "count  7.728394e+06    7.564541e+06   5.729375e+06  7.554250e+06   \n",
            "mean   2.212384e+00    6.166329e+01   5.825105e+01  6.483104e+01   \n",
            "std    4.875310e-01    1.901365e+01   2.238983e+01  2.282097e+01   \n",
            "min    1.000000e+00   -8.900000e+01  -8.900000e+01  1.000000e+00   \n",
            "25%    2.000000e+00    4.900000e+01   4.300000e+01  4.800000e+01   \n",
            "50%    2.000000e+00    6.400000e+01   6.200000e+01  6.700000e+01   \n",
            "75%    2.000000e+00    7.600000e+01   7.500000e+01  8.400000e+01   \n",
            "max    4.000000e+00    2.070000e+02   2.070000e+02  1.000000e+02   \n",
            "\n",
            "       Pressure(in)  Visibility(mi)  Wind_Speed(mph)  Precipitation(in)  \n",
            "count  7.587715e+06    7.551296e+06     7.157161e+06       5.524808e+06  \n",
            "mean   2.953899e+01    9.090376e+00     7.685490e+00       8.407000e-03  \n",
            "std    1.006190e+00    2.688316e+00     5.424983e+00       1.102250e-01  \n",
            "min    0.000000e+00    0.000000e+00     0.000000e+00       0.000000e+00  \n",
            "25%    2.937000e+01    1.000000e+01     4.600000e+00       0.000000e+00  \n",
            "50%    2.986000e+01    1.000000e+01     7.000000e+00       0.000000e+00  \n",
            "75%    3.003000e+01    1.000000e+01     1.040000e+01       0.000000e+00  \n",
            "max    5.863000e+01    1.400000e+02     1.087000e+03       3.647000e+01  \n"
          ]
        }
      ],
      "source": [
        "\n",
        "\n",
        "# استخراج و خلاصه‌سازی ستون‌های موردنظر\n",
        "df_selected = df[[\"Severity\", \"Temperature(F)\", \"Wind_Chill(F)\", \"Humidity(%)\",\n",
        "                  \"Pressure(in)\", \"Visibility(mi)\", \"Wind_Speed(mph)\",\n",
        "                  \"Precipitation(in)\"]]\n",
        "\n",
        "print(df_selected.describe())\n"
      ]
    },
    {
      "cell_type": "code",
      "execution_count": 25,
      "metadata": {
        "id": "oNp9ikEZw1jf"
      },
      "outputs": [],
      "source": [
        "df1=df1.astype({\n",
        "    \"Severity\": np.uint8,\n",
        "    \"Temperature(F)\": np.int16,\n",
        "    \"Humidity(%)\": np.uint8,\n",
        "    \"Pressure(in)\": np.float32,\n",
        "    \"Visibility(mi)\": np.uint8,\n",
        "    \"Wind_Speed(mph)\": np.uint16,\n",
        "})"
      ]
    },
    {
      "cell_type": "markdown",
      "metadata": {
        "id": "9zZ_q8wVxWN4"
      },
      "source": [
        "# saving df as df1 with reducing size and changing its types"
      ]
    },
    {
      "cell_type": "code",
      "execution_count": 27,
      "metadata": {
        "colab": {
          "base_uri": "https://localhost:8080/"
        },
        "id": "alWYF_haxEku",
        "outputId": "7a03f0bf-0f4f-4b88-954d-ab60ab9566f2"
      },
      "outputs": [
        {
          "name": "stdout",
          "output_type": "stream",
          "text": [
            "<class 'cudf.core.dataframe.DataFrame'>\n",
            "RangeIndex: 7728394 entries, 0 to 7728393\n",
            "Data columns (total 11 columns):\n",
            " #   Column                   Dtype\n",
            "---  ------                   -----\n",
            " 0   Severity                 uint8\n",
            " 1   Weather_Timestamp        object\n",
            " 2   Temperature(F)           int16\n",
            " 3   Humidity(%)              uint8\n",
            " 4   Pressure(in)             float32\n",
            " 5   Visibility(mi)           uint8\n",
            " 6   Wind_Direction           object\n",
            " 7   Wind_Speed(mph)          uint16\n",
            " 8   Weather_Condition        object\n",
            " 9   weather_condition_Label  uint8\n",
            " 10  Wind_Direction_label     uint8\n",
            "dtypes: float32(1), int16(1), object(3), uint16(1), uint8(5)\n",
            "memory usage: 402.3+ MB\n"
          ]
        }
      ],
      "source": [
        "df1.info()"
      ]
    },
    {
      "cell_type": "code",
      "execution_count": 28,
      "metadata": {
        "colab": {
          "base_uri": "https://localhost:8080/",
          "height": 696
        },
        "id": "39KyjTavyXbp",
        "outputId": "dc6d98d0-9472-4276-8656-e93fee158428"
      },
      "outputs": [
        {
          "data": {
            "text/html": [
              "<div>\n",
              "<style scoped>\n",
              "    .dataframe tbody tr th:only-of-type {\n",
              "        vertical-align: middle;\n",
              "    }\n",
              "\n",
              "    .dataframe tbody tr th {\n",
              "        vertical-align: top;\n",
              "    }\n",
              "\n",
              "    .dataframe thead th {\n",
              "        text-align: right;\n",
              "    }\n",
              "</style>\n",
              "<table border=\"1\" class=\"dataframe\">\n",
              "  <thead>\n",
              "    <tr style=\"text-align: right;\">\n",
              "      <th></th>\n",
              "      <th>Severity</th>\n",
              "      <th>Weather_Timestamp</th>\n",
              "      <th>Temperature(F)</th>\n",
              "      <th>Humidity(%)</th>\n",
              "      <th>Pressure(in)</th>\n",
              "      <th>Visibility(mi)</th>\n",
              "      <th>Wind_Direction</th>\n",
              "      <th>Wind_Speed(mph)</th>\n",
              "      <th>Weather_Condition</th>\n",
              "      <th>weather_condition_Label</th>\n",
              "      <th>Wind_Direction_label</th>\n",
              "    </tr>\n",
              "  </thead>\n",
              "  <tbody>\n",
              "    <tr>\n",
              "      <th>0</th>\n",
              "      <td>3</td>\n",
              "      <td>2016-02-08 05:58:00</td>\n",
              "      <td>36</td>\n",
              "      <td>91</td>\n",
              "      <td>29.680000</td>\n",
              "      <td>10</td>\n",
              "      <td>Calm</td>\n",
              "      <td>3</td>\n",
              "      <td>Light Rain</td>\n",
              "      <td>62</td>\n",
              "      <td>1</td>\n",
              "    </tr>\n",
              "    <tr>\n",
              "      <th>1</th>\n",
              "      <td>2</td>\n",
              "      <td>2016-02-08 05:51:00</td>\n",
              "      <td>37</td>\n",
              "      <td>100</td>\n",
              "      <td>29.650000</td>\n",
              "      <td>10</td>\n",
              "      <td>Calm</td>\n",
              "      <td>3</td>\n",
              "      <td>Light Rain</td>\n",
              "      <td>62</td>\n",
              "      <td>1</td>\n",
              "    </tr>\n",
              "    <tr>\n",
              "      <th>2</th>\n",
              "      <td>2</td>\n",
              "      <td>2016-02-08 06:56:00</td>\n",
              "      <td>36</td>\n",
              "      <td>100</td>\n",
              "      <td>29.670000</td>\n",
              "      <td>10</td>\n",
              "      <td>SW</td>\n",
              "      <td>3</td>\n",
              "      <td>Overcast</td>\n",
              "      <td>88</td>\n",
              "      <td>16</td>\n",
              "    </tr>\n",
              "    <tr>\n",
              "      <th>3</th>\n",
              "      <td>3</td>\n",
              "      <td>2016-02-08 07:38:00</td>\n",
              "      <td>35</td>\n",
              "      <td>96</td>\n",
              "      <td>29.639999</td>\n",
              "      <td>9</td>\n",
              "      <td>SW</td>\n",
              "      <td>4</td>\n",
              "      <td>Mostly Cloudy</td>\n",
              "      <td>85</td>\n",
              "      <td>16</td>\n",
              "    </tr>\n",
              "    <tr>\n",
              "      <th>4</th>\n",
              "      <td>2</td>\n",
              "      <td>2016-02-08 07:53:00</td>\n",
              "      <td>36</td>\n",
              "      <td>89</td>\n",
              "      <td>29.650000</td>\n",
              "      <td>6</td>\n",
              "      <td>SW</td>\n",
              "      <td>3</td>\n",
              "      <td>Mostly Cloudy</td>\n",
              "      <td>85</td>\n",
              "      <td>16</td>\n",
              "    </tr>\n",
              "    <tr>\n",
              "      <th>5</th>\n",
              "      <td>3</td>\n",
              "      <td>2016-02-08 07:51:00</td>\n",
              "      <td>37</td>\n",
              "      <td>97</td>\n",
              "      <td>29.629999</td>\n",
              "      <td>7</td>\n",
              "      <td>SSW</td>\n",
              "      <td>3</td>\n",
              "      <td>Light Rain</td>\n",
              "      <td>62</td>\n",
              "      <td>15</td>\n",
              "    </tr>\n",
              "    <tr>\n",
              "      <th>6</th>\n",
              "      <td>2</td>\n",
              "      <td>2016-02-08 07:56:00</td>\n",
              "      <td>34</td>\n",
              "      <td>100</td>\n",
              "      <td>29.660000</td>\n",
              "      <td>7</td>\n",
              "      <td>WSW</td>\n",
              "      <td>3</td>\n",
              "      <td>Overcast</td>\n",
              "      <td>88</td>\n",
              "      <td>23</td>\n",
              "    </tr>\n",
              "    <tr>\n",
              "      <th>7</th>\n",
              "      <td>3</td>\n",
              "      <td>2016-02-08 07:56:00</td>\n",
              "      <td>34</td>\n",
              "      <td>100</td>\n",
              "      <td>29.660000</td>\n",
              "      <td>7</td>\n",
              "      <td>WSW</td>\n",
              "      <td>3</td>\n",
              "      <td>Overcast</td>\n",
              "      <td>88</td>\n",
              "      <td>23</td>\n",
              "    </tr>\n",
              "    <tr>\n",
              "      <th>8</th>\n",
              "      <td>2</td>\n",
              "      <td>2016-02-08 07:58:00</td>\n",
              "      <td>33</td>\n",
              "      <td>99</td>\n",
              "      <td>29.670000</td>\n",
              "      <td>5</td>\n",
              "      <td>SW</td>\n",
              "      <td>1</td>\n",
              "      <td>Mostly Cloudy</td>\n",
              "      <td>85</td>\n",
              "      <td>16</td>\n",
              "    </tr>\n",
              "    <tr>\n",
              "      <th>9</th>\n",
              "      <td>3</td>\n",
              "      <td>2016-02-08 08:28:00</td>\n",
              "      <td>37</td>\n",
              "      <td>100</td>\n",
              "      <td>29.620001</td>\n",
              "      <td>3</td>\n",
              "      <td>SSW</td>\n",
              "      <td>4</td>\n",
              "      <td>Light Rain</td>\n",
              "      <td>62</td>\n",
              "      <td>15</td>\n",
              "    </tr>\n",
              "    <tr>\n",
              "      <th>10</th>\n",
              "      <td>3</td>\n",
              "      <td>2016-02-08 07:50:00</td>\n",
              "      <td>35</td>\n",
              "      <td>93</td>\n",
              "      <td>29.639999</td>\n",
              "      <td>5</td>\n",
              "      <td>WNW</td>\n",
              "      <td>5</td>\n",
              "      <td>Rain</td>\n",
              "      <td>95</td>\n",
              "      <td>22</td>\n",
              "    </tr>\n",
              "    <tr>\n",
              "      <th>11</th>\n",
              "      <td>3</td>\n",
              "      <td>2016-02-08 08:28:00</td>\n",
              "      <td>37</td>\n",
              "      <td>100</td>\n",
              "      <td>29.620001</td>\n",
              "      <td>3</td>\n",
              "      <td>SSW</td>\n",
              "      <td>4</td>\n",
              "      <td>Light Rain</td>\n",
              "      <td>62</td>\n",
              "      <td>15</td>\n",
              "    </tr>\n",
              "    <tr>\n",
              "      <th>12</th>\n",
              "      <td>2</td>\n",
              "      <td>2016-02-08 08:28:00</td>\n",
              "      <td>33</td>\n",
              "      <td>100</td>\n",
              "      <td>29.629999</td>\n",
              "      <td>3</td>\n",
              "      <td>SW</td>\n",
              "      <td>2</td>\n",
              "      <td>Overcast</td>\n",
              "      <td>88</td>\n",
              "      <td>16</td>\n",
              "    </tr>\n",
              "    <tr>\n",
              "      <th>13</th>\n",
              "      <td>2</td>\n",
              "      <td>2016-02-08 08:56:00</td>\n",
              "      <td>36</td>\n",
              "      <td>89</td>\n",
              "      <td>29.650000</td>\n",
              "      <td>10</td>\n",
              "      <td>NW</td>\n",
              "      <td>5</td>\n",
              "      <td>Mostly Cloudy</td>\n",
              "      <td>85</td>\n",
              "      <td>10</td>\n",
              "    </tr>\n",
              "    <tr>\n",
              "      <th>14</th>\n",
              "      <td>2</td>\n",
              "      <td>2016-02-08 08:28:00</td>\n",
              "      <td>37</td>\n",
              "      <td>100</td>\n",
              "      <td>29.620001</td>\n",
              "      <td>3</td>\n",
              "      <td>SSW</td>\n",
              "      <td>4</td>\n",
              "      <td>Light Rain</td>\n",
              "      <td>62</td>\n",
              "      <td>15</td>\n",
              "    </tr>\n",
              "    <tr>\n",
              "      <th>15</th>\n",
              "      <td>2</td>\n",
              "      <td>2016-02-08 08:28:00</td>\n",
              "      <td>33</td>\n",
              "      <td>100</td>\n",
              "      <td>29.629999</td>\n",
              "      <td>3</td>\n",
              "      <td>SW</td>\n",
              "      <td>2</td>\n",
              "      <td>Overcast</td>\n",
              "      <td>88</td>\n",
              "      <td>16</td>\n",
              "    </tr>\n",
              "    <tr>\n",
              "      <th>16</th>\n",
              "      <td>2</td>\n",
              "      <td>2016-02-08 08:58:00</td>\n",
              "      <td>35</td>\n",
              "      <td>99</td>\n",
              "      <td>29.650000</td>\n",
              "      <td>7</td>\n",
              "      <td>WSW</td>\n",
              "      <td>2</td>\n",
              "      <td>Mostly Cloudy</td>\n",
              "      <td>85</td>\n",
              "      <td>23</td>\n",
              "    </tr>\n",
              "    <tr>\n",
              "      <th>17</th>\n",
              "      <td>2</td>\n",
              "      <td>2016-02-08 08:56:00</td>\n",
              "      <td>36</td>\n",
              "      <td>89</td>\n",
              "      <td>29.650000</td>\n",
              "      <td>10</td>\n",
              "      <td>NW</td>\n",
              "      <td>5</td>\n",
              "      <td>Mostly Cloudy</td>\n",
              "      <td>85</td>\n",
              "      <td>10</td>\n",
              "    </tr>\n",
              "    <tr>\n",
              "      <th>18</th>\n",
              "      <td>2</td>\n",
              "      <td>2016-02-08 09:38:00</td>\n",
              "      <td>37</td>\n",
              "      <td>93</td>\n",
              "      <td>29.629999</td>\n",
              "      <td>10</td>\n",
              "      <td>WSW</td>\n",
              "      <td>6</td>\n",
              "      <td>Overcast</td>\n",
              "      <td>88</td>\n",
              "      <td>23</td>\n",
              "    </tr>\n",
              "    <tr>\n",
              "      <th>19</th>\n",
              "      <td>2</td>\n",
              "      <td>2016-02-08 09:56:00</td>\n",
              "      <td>36</td>\n",
              "      <td>89</td>\n",
              "      <td>29.650000</td>\n",
              "      <td>10</td>\n",
              "      <td>West</td>\n",
              "      <td>6</td>\n",
              "      <td>Mostly Cloudy</td>\n",
              "      <td>85</td>\n",
              "      <td>24</td>\n",
              "    </tr>\n",
              "  </tbody>\n",
              "</table>\n",
              "</div>"
            ],
            "text/plain": [
              "    Severity    Weather_Timestamp  Temperature(F)  Humidity(%)  Pressure(in)  \\\n",
              "0          3  2016-02-08 05:58:00              36           91     29.680000   \n",
              "1          2  2016-02-08 05:51:00              37          100     29.650000   \n",
              "2          2  2016-02-08 06:56:00              36          100     29.670000   \n",
              "3          3  2016-02-08 07:38:00              35           96     29.639999   \n",
              "4          2  2016-02-08 07:53:00              36           89     29.650000   \n",
              "5          3  2016-02-08 07:51:00              37           97     29.629999   \n",
              "6          2  2016-02-08 07:56:00              34          100     29.660000   \n",
              "7          3  2016-02-08 07:56:00              34          100     29.660000   \n",
              "8          2  2016-02-08 07:58:00              33           99     29.670000   \n",
              "9          3  2016-02-08 08:28:00              37          100     29.620001   \n",
              "10         3  2016-02-08 07:50:00              35           93     29.639999   \n",
              "11         3  2016-02-08 08:28:00              37          100     29.620001   \n",
              "12         2  2016-02-08 08:28:00              33          100     29.629999   \n",
              "13         2  2016-02-08 08:56:00              36           89     29.650000   \n",
              "14         2  2016-02-08 08:28:00              37          100     29.620001   \n",
              "15         2  2016-02-08 08:28:00              33          100     29.629999   \n",
              "16         2  2016-02-08 08:58:00              35           99     29.650000   \n",
              "17         2  2016-02-08 08:56:00              36           89     29.650000   \n",
              "18         2  2016-02-08 09:38:00              37           93     29.629999   \n",
              "19         2  2016-02-08 09:56:00              36           89     29.650000   \n",
              "\n",
              "    Visibility(mi) Wind_Direction  Wind_Speed(mph) Weather_Condition  \\\n",
              "0               10           Calm                3        Light Rain   \n",
              "1               10           Calm                3        Light Rain   \n",
              "2               10             SW                3          Overcast   \n",
              "3                9             SW                4     Mostly Cloudy   \n",
              "4                6             SW                3     Mostly Cloudy   \n",
              "5                7            SSW                3        Light Rain   \n",
              "6                7            WSW                3          Overcast   \n",
              "7                7            WSW                3          Overcast   \n",
              "8                5             SW                1     Mostly Cloudy   \n",
              "9                3            SSW                4        Light Rain   \n",
              "10               5            WNW                5              Rain   \n",
              "11               3            SSW                4        Light Rain   \n",
              "12               3             SW                2          Overcast   \n",
              "13              10             NW                5     Mostly Cloudy   \n",
              "14               3            SSW                4        Light Rain   \n",
              "15               3             SW                2          Overcast   \n",
              "16               7            WSW                2     Mostly Cloudy   \n",
              "17              10             NW                5     Mostly Cloudy   \n",
              "18              10            WSW                6          Overcast   \n",
              "19              10           West                6     Mostly Cloudy   \n",
              "\n",
              "    weather_condition_Label  Wind_Direction_label  \n",
              "0                        62                     1  \n",
              "1                        62                     1  \n",
              "2                        88                    16  \n",
              "3                        85                    16  \n",
              "4                        85                    16  \n",
              "5                        62                    15  \n",
              "6                        88                    23  \n",
              "7                        88                    23  \n",
              "8                        85                    16  \n",
              "9                        62                    15  \n",
              "10                       95                    22  \n",
              "11                       62                    15  \n",
              "12                       88                    16  \n",
              "13                       85                    10  \n",
              "14                       62                    15  \n",
              "15                       88                    16  \n",
              "16                       85                    23  \n",
              "17                       85                    10  \n",
              "18                       88                    23  \n",
              "19                       85                    24  "
            ]
          },
          "execution_count": 28,
          "metadata": {},
          "output_type": "execute_result"
        }
      ],
      "source": [
        "df1.head(20)"
      ]
    },
    {
      "cell_type": "code",
      "execution_count": 29,
      "metadata": {
        "colab": {
          "base_uri": "https://localhost:8080/"
        },
        "id": "Lf3A-Y1oC2ix",
        "outputId": "6eaac3fd-6342-451a-c386-e8eab8b533ca"
      },
      "outputs": [
        {
          "name": "stdout",
          "output_type": "stream",
          "text": [
            "<class 'cudf.core.dataframe.DataFrame'>\n",
            "RangeIndex: 7728394 entries, 0 to 7728393\n",
            "Data columns (total 11 columns):\n",
            " #   Column                   Dtype\n",
            "---  ------                   -----\n",
            " 0   Severity                 uint8\n",
            " 1   Weather_Timestamp        object\n",
            " 2   Temperature(F)           int16\n",
            " 3   Humidity(%)              uint8\n",
            " 4   Pressure(in)             float32\n",
            " 5   Visibility(mi)           uint8\n",
            " 6   Wind_Direction           object\n",
            " 7   Wind_Speed(mph)          uint16\n",
            " 8   Weather_Condition        object\n",
            " 9   weather_condition_Label  uint8\n",
            " 10  Wind_Direction_label     uint8\n",
            "dtypes: float32(1), int16(1), object(3), uint16(1), uint8(5)\n",
            "memory usage: 402.3+ MB\n"
          ]
        }
      ],
      "source": [
        "df1.info()"
      ]
    },
    {
      "cell_type": "code",
      "execution_count": 30,
      "metadata": {
        "id": "mBzNgvW7H8_p"
      },
      "outputs": [],
      "source": [
        "df2 = df1.drop(columns=[\"Weather_Condition\", \"Wind_Direction\"])\n"
      ]
    },
    {
      "cell_type": "code",
      "execution_count": 31,
      "metadata": {
        "colab": {
          "base_uri": "https://localhost:8080/"
        },
        "id": "jRiGfRlvIg4n",
        "outputId": "002389ce-adc7-47d6-bae6-b181f722c423"
      },
      "outputs": [
        {
          "name": "stdout",
          "output_type": "stream",
          "text": [
            "<class 'cudf.core.dataframe.DataFrame'>\n",
            "RangeIndex: 7728394 entries, 0 to 7728393\n",
            "Data columns (total 9 columns):\n",
            " #   Column                   Dtype\n",
            "---  ------                   -----\n",
            " 0   Severity                 uint8\n",
            " 1   Weather_Timestamp        object\n",
            " 2   Temperature(F)           int16\n",
            " 3   Humidity(%)              uint8\n",
            " 4   Pressure(in)             float32\n",
            " 5   Visibility(mi)           uint8\n",
            " 6   Wind_Speed(mph)          uint16\n",
            " 7   weather_condition_Label  uint8\n",
            " 8   Wind_Direction_label     uint8\n",
            "dtypes: float32(1), int16(1), object(1), uint16(1), uint8(5)\n",
            "memory usage: 265.3+ MB\n"
          ]
        }
      ],
      "source": [
        "df2.info()"
      ]
    },
    {
      "cell_type": "code",
      "execution_count": 32,
      "metadata": {
        "colab": {
          "base_uri": "https://localhost:8080/"
        },
        "id": "CjM7EOXRIihN",
        "outputId": "3e244add-c7c7-4697-dd5d-1e43c960d7de"
      },
      "outputs": [
        {
          "name": "stdout",
          "output_type": "stream",
          "text": [
            "Severity                   0\n",
            "Weather_Timestamp          0\n",
            "Temperature(F)             0\n",
            "Humidity(%)                0\n",
            "Pressure(in)               0\n",
            "Visibility(mi)             0\n",
            "Wind_Speed(mph)            0\n",
            "weather_condition_Label    0\n",
            "Wind_Direction_label       0\n",
            "dtype: int64\n"
          ]
        }
      ],
      "source": [
        "print(df2.isna().sum())\n",
        "df2[\"Weather_Timestamp\"] = pd.to_datetime(df2[\"Weather_Timestamp\"])"
      ]
    },
    {
      "cell_type": "code",
      "execution_count": 33,
      "metadata": {
        "colab": {
          "base_uri": "https://localhost:8080/"
        },
        "id": "Blna_mI_JJTG",
        "outputId": "840c116b-35f5-439f-c2f2-2975f9a00191"
      },
      "outputs": [
        {
          "name": "stdout",
          "output_type": "stream",
          "text": [
            "<class 'cudf.core.dataframe.DataFrame'>\n",
            "RangeIndex: 7728394 entries, 0 to 7728393\n",
            "Data columns (total 9 columns):\n",
            " #   Column                   Dtype\n",
            "---  ------                   -----\n",
            " 0   Severity                 uint8\n",
            " 1   Weather_Timestamp        datetime64[ns]\n",
            " 2   Temperature(F)           int16\n",
            " 3   Humidity(%)              uint8\n",
            " 4   Pressure(in)             float32\n",
            " 5   Visibility(mi)           uint8\n",
            " 6   Wind_Speed(mph)          uint16\n",
            " 7   weather_condition_Label  uint8\n",
            " 8   Wind_Direction_label     uint8\n",
            "dtypes: datetime64[ns](1), float32(1), int16(1), uint16(1), uint8(5)\n",
            "memory usage: 154.8 MB\n"
          ]
        }
      ],
      "source": [
        "df2.info()"
      ]
    },
    {
      "cell_type": "code",
      "execution_count": 34,
      "metadata": {
        "colab": {
          "base_uri": "https://localhost:8080/",
          "height": 363
        },
        "id": "5NmSccqWJL5_",
        "outputId": "48134621-afa4-4633-cdc7-7e35e94380d0"
      },
      "outputs": [
        {
          "data": {
            "text/html": [
              "<div>\n",
              "<style scoped>\n",
              "    .dataframe tbody tr th:only-of-type {\n",
              "        vertical-align: middle;\n",
              "    }\n",
              "\n",
              "    .dataframe tbody tr th {\n",
              "        vertical-align: top;\n",
              "    }\n",
              "\n",
              "    .dataframe thead th {\n",
              "        text-align: right;\n",
              "    }\n",
              "</style>\n",
              "<table border=\"1\" class=\"dataframe\">\n",
              "  <thead>\n",
              "    <tr style=\"text-align: right;\">\n",
              "      <th></th>\n",
              "      <th>Severity</th>\n",
              "      <th>Weather_Timestamp</th>\n",
              "      <th>Temperature(F)</th>\n",
              "      <th>Humidity(%)</th>\n",
              "      <th>Pressure(in)</th>\n",
              "      <th>Visibility(mi)</th>\n",
              "      <th>Wind_Speed(mph)</th>\n",
              "      <th>weather_condition_Label</th>\n",
              "      <th>Wind_Direction_label</th>\n",
              "    </tr>\n",
              "  </thead>\n",
              "  <tbody>\n",
              "    <tr>\n",
              "      <th>0</th>\n",
              "      <td>3</td>\n",
              "      <td>2016-02-08 05:58:00</td>\n",
              "      <td>36</td>\n",
              "      <td>91</td>\n",
              "      <td>29.680000</td>\n",
              "      <td>10</td>\n",
              "      <td>3</td>\n",
              "      <td>62</td>\n",
              "      <td>1</td>\n",
              "    </tr>\n",
              "    <tr>\n",
              "      <th>1</th>\n",
              "      <td>2</td>\n",
              "      <td>2016-02-08 05:51:00</td>\n",
              "      <td>37</td>\n",
              "      <td>100</td>\n",
              "      <td>29.650000</td>\n",
              "      <td>10</td>\n",
              "      <td>3</td>\n",
              "      <td>62</td>\n",
              "      <td>1</td>\n",
              "    </tr>\n",
              "    <tr>\n",
              "      <th>2</th>\n",
              "      <td>2</td>\n",
              "      <td>2016-02-08 06:56:00</td>\n",
              "      <td>36</td>\n",
              "      <td>100</td>\n",
              "      <td>29.670000</td>\n",
              "      <td>10</td>\n",
              "      <td>3</td>\n",
              "      <td>88</td>\n",
              "      <td>16</td>\n",
              "    </tr>\n",
              "    <tr>\n",
              "      <th>3</th>\n",
              "      <td>3</td>\n",
              "      <td>2016-02-08 07:38:00</td>\n",
              "      <td>35</td>\n",
              "      <td>96</td>\n",
              "      <td>29.639999</td>\n",
              "      <td>9</td>\n",
              "      <td>4</td>\n",
              "      <td>85</td>\n",
              "      <td>16</td>\n",
              "    </tr>\n",
              "    <tr>\n",
              "      <th>4</th>\n",
              "      <td>2</td>\n",
              "      <td>2016-02-08 07:53:00</td>\n",
              "      <td>36</td>\n",
              "      <td>89</td>\n",
              "      <td>29.650000</td>\n",
              "      <td>6</td>\n",
              "      <td>3</td>\n",
              "      <td>85</td>\n",
              "      <td>16</td>\n",
              "    </tr>\n",
              "    <tr>\n",
              "      <th>5</th>\n",
              "      <td>3</td>\n",
              "      <td>2016-02-08 07:51:00</td>\n",
              "      <td>37</td>\n",
              "      <td>97</td>\n",
              "      <td>29.629999</td>\n",
              "      <td>7</td>\n",
              "      <td>3</td>\n",
              "      <td>62</td>\n",
              "      <td>15</td>\n",
              "    </tr>\n",
              "    <tr>\n",
              "      <th>6</th>\n",
              "      <td>2</td>\n",
              "      <td>2016-02-08 07:56:00</td>\n",
              "      <td>34</td>\n",
              "      <td>100</td>\n",
              "      <td>29.660000</td>\n",
              "      <td>7</td>\n",
              "      <td>3</td>\n",
              "      <td>88</td>\n",
              "      <td>23</td>\n",
              "    </tr>\n",
              "    <tr>\n",
              "      <th>7</th>\n",
              "      <td>3</td>\n",
              "      <td>2016-02-08 07:56:00</td>\n",
              "      <td>34</td>\n",
              "      <td>100</td>\n",
              "      <td>29.660000</td>\n",
              "      <td>7</td>\n",
              "      <td>3</td>\n",
              "      <td>88</td>\n",
              "      <td>23</td>\n",
              "    </tr>\n",
              "    <tr>\n",
              "      <th>8</th>\n",
              "      <td>2</td>\n",
              "      <td>2016-02-08 07:58:00</td>\n",
              "      <td>33</td>\n",
              "      <td>99</td>\n",
              "      <td>29.670000</td>\n",
              "      <td>5</td>\n",
              "      <td>1</td>\n",
              "      <td>85</td>\n",
              "      <td>16</td>\n",
              "    </tr>\n",
              "    <tr>\n",
              "      <th>9</th>\n",
              "      <td>3</td>\n",
              "      <td>2016-02-08 08:28:00</td>\n",
              "      <td>37</td>\n",
              "      <td>100</td>\n",
              "      <td>29.620001</td>\n",
              "      <td>3</td>\n",
              "      <td>4</td>\n",
              "      <td>62</td>\n",
              "      <td>15</td>\n",
              "    </tr>\n",
              "  </tbody>\n",
              "</table>\n",
              "</div>"
            ],
            "text/plain": [
              "   Severity   Weather_Timestamp  Temperature(F)  Humidity(%)  Pressure(in)  \\\n",
              "0         3 2016-02-08 05:58:00              36           91     29.680000   \n",
              "1         2 2016-02-08 05:51:00              37          100     29.650000   \n",
              "2         2 2016-02-08 06:56:00              36          100     29.670000   \n",
              "3         3 2016-02-08 07:38:00              35           96     29.639999   \n",
              "4         2 2016-02-08 07:53:00              36           89     29.650000   \n",
              "5         3 2016-02-08 07:51:00              37           97     29.629999   \n",
              "6         2 2016-02-08 07:56:00              34          100     29.660000   \n",
              "7         3 2016-02-08 07:56:00              34          100     29.660000   \n",
              "8         2 2016-02-08 07:58:00              33           99     29.670000   \n",
              "9         3 2016-02-08 08:28:00              37          100     29.620001   \n",
              "\n",
              "   Visibility(mi)  Wind_Speed(mph)  weather_condition_Label  \\\n",
              "0              10                3                       62   \n",
              "1              10                3                       62   \n",
              "2              10                3                       88   \n",
              "3               9                4                       85   \n",
              "4               6                3                       85   \n",
              "5               7                3                       62   \n",
              "6               7                3                       88   \n",
              "7               7                3                       88   \n",
              "8               5                1                       85   \n",
              "9               3                4                       62   \n",
              "\n",
              "   Wind_Direction_label  \n",
              "0                     1  \n",
              "1                     1  \n",
              "2                    16  \n",
              "3                    16  \n",
              "4                    16  \n",
              "5                    15  \n",
              "6                    23  \n",
              "7                    23  \n",
              "8                    16  \n",
              "9                    15  "
            ]
          },
          "execution_count": 34,
          "metadata": {},
          "output_type": "execute_result"
        }
      ],
      "source": [
        "df2.head(10)"
      ]
    },
    {
      "cell_type": "code",
      "execution_count": 35,
      "metadata": {
        "id": "JW-n1aFZKU5X"
      },
      "outputs": [],
      "source": [
        "df2=df2.astype({\n",
        "    \"Weather_Timestamp\": np.uint32,\n",
        "})"
      ]
    },
    {
      "cell_type": "code",
      "execution_count": 36,
      "metadata": {
        "colab": {
          "base_uri": "https://localhost:8080/"
        },
        "id": "SZSW71DNMJ1h",
        "outputId": "cdd445d7-3492-47c1-f50f-43ca3ed3a38b"
      },
      "outputs": [
        {
          "name": "stdout",
          "output_type": "stream",
          "text": [
            "Severity                   0\n",
            "Weather_Timestamp          0\n",
            "Temperature(F)             0\n",
            "Humidity(%)                0\n",
            "Pressure(in)               0\n",
            "Visibility(mi)             0\n",
            "Wind_Speed(mph)            0\n",
            "weather_condition_Label    0\n",
            "Wind_Direction_label       0\n",
            "dtype: int64\n"
          ]
        }
      ],
      "source": [
        "print(df2.isna().sum())\n"
      ]
    },
    {
      "cell_type": "code",
      "execution_count": 37,
      "metadata": {
        "colab": {
          "base_uri": "https://localhost:8080/"
        },
        "id": "KY03rXHoMLJI",
        "outputId": "c64c7801-388f-45ec-e422-3236e7051cdb"
      },
      "outputs": [
        {
          "name": "stdout",
          "output_type": "stream",
          "text": [
            "<class 'cudf.core.dataframe.DataFrame'>\n",
            "RangeIndex: 7728394 entries, 0 to 7728393\n",
            "Data columns (total 9 columns):\n",
            " #   Column                   Dtype\n",
            "---  ------                   -----\n",
            " 0   Severity                 uint8\n",
            " 1   Weather_Timestamp        uint32\n",
            " 2   Temperature(F)           int16\n",
            " 3   Humidity(%)              uint8\n",
            " 4   Pressure(in)             float32\n",
            " 5   Visibility(mi)           uint8\n",
            " 6   Wind_Speed(mph)          uint16\n",
            " 7   weather_condition_Label  uint8\n",
            " 8   Wind_Direction_label     uint8\n",
            "dtypes: float32(1), int16(1), uint16(1), uint32(1), uint8(5)\n",
            "memory usage: 125.3 MB\n"
          ]
        }
      ],
      "source": [
        "df2.info()"
      ]
    },
    {
      "cell_type": "code",
      "execution_count": 38,
      "metadata": {
        "id": "q3lzGvkoMR7v"
      },
      "outputs": [],
      "source": [
        "import seaborn as sns\n",
        "import matplotlib.pyplot as plt\n"
      ]
    },
    {
      "cell_type": "code",
      "execution_count": 39,
      "metadata": {
        "colab": {
          "base_uri": "https://localhost:8080/",
          "height": 442
        },
        "id": "KmSGdhicZu9D",
        "outputId": "a95a99cb-cc14-439a-cb38-32400bd9b37f"
      },
      "outputs": [
        {
          "name": "stdout",
          "output_type": "stream",
          "text": [
            "<class 'cudf.core.series.Series'>\n",
            "<class 'pandas.core.series.Series'>\n"
          ]
        },
        {
          "data": {
            "image/png": "[encoded data removed]",
            "text/plain": [
              "<Figure size 600x400 with 1 Axes>"
            ]
          },
          "metadata": {},
          "output_type": "display_data"
        }
      ],
      "source": [
        "mean_temp = df2.groupby('Severity')['Temperature(F)'].mean()\n",
        "print(type(mean_temp))\n",
        "mean_temp = mean_temp.to_pandas()\n",
        "print(type(mean_temp))\n",
        "mean_temp.plot(kind='bar', figsize=(6,4))\n",
        "plt.title('Mean Temperature per Severity')\n",
        "plt.xlabel('Severity')\n",
        "plt.ylabel('Average Temperature (°F)')\n",
        "plt.grid(True)\n",
        "plt.tight_layout()\n",
        "plt.show()"
      ]
    },
    {
      "cell_type": "code",
      "execution_count": 40,
      "metadata": {
        "colab": {
          "base_uri": "https://localhost:8080/",
          "height": 407
        },
        "id": "wuA-_dkaZu_l",
        "outputId": "79bd4e6b-3b40-4387-85dd-71a8a75ae439"
      },
      "outputs": [
        {
          "data": {
            "image/png": "[encoded data removed]",
            "text/plain": [
              "<Figure size 600x400 with 1 Axes>"
            ]
          },
          "metadata": {},
          "output_type": "display_data"
        }
      ],
      "source": [
        "# محاسبه میانگین رطوبت در هر سطح از شدت تصادف\n",
        "mean_humidity = df2.groupby('Severity')['Humidity(%)'].mean()\n",
        "mean_humidity= mean_humidity.to_pandas()\n",
        "# رسم نمودار bar خیلی سبک\n",
        "mean_humidity.plot(kind='bar', figsize=(6,4))\n",
        "plt.title('Mean Humidity per Severity')\n",
        "plt.xlabel('Severity')\n",
        "plt.ylabel('Average Humidity (%)')\n",
        "plt.grid(True)\n",
        "plt.tight_layout()\n",
        "plt.show()\n"
      ]
    },
    {
      "cell_type": "code",
      "execution_count": 41,
      "metadata": {
        "colab": {
          "base_uri": "https://localhost:8080/",
          "height": 407
        },
        "id": "w4DmnmMOZvCO",
        "outputId": "0e50a61c-b8cb-41af-ef8e-e7ed47c554c5"
      },
      "outputs": [
        {
          "data": {
            "image/png": "[encoded data removed]",
            "text/plain": [
              "<Figure size 600x400 with 1 Axes>"
            ]
          },
          "metadata": {},
          "output_type": "display_data"
        }
      ],
      "source": [
        "# محاسبه میانگین میزان دید برای هر سطح شدت تصادف\n",
        "mean_visibility = df2.groupby('Severity')['Visibility(mi)'].mean()\n",
        "mean_visibility = mean_visibility.to_pandas()\n",
        "\n",
        "# رسم نمودار bar\n",
        "mean_visibility.plot(kind='bar', figsize=(6,4))\n",
        "plt.title('Mean Visibility per Severity')\n",
        "plt.xlabel('Severity')\n",
        "plt.ylabel('Average Visibility (mi)')\n",
        "plt.grid(True)\n",
        "plt.tight_layout()\n",
        "plt.show()\n"
      ]
    },
    {
      "cell_type": "code",
      "execution_count": 42,
      "metadata": {
        "colab": {
          "base_uri": "https://localhost:8080/",
          "height": 407
        },
        "id": "-SuBXkkZZvFC",
        "outputId": "22748c1a-6461-4046-8dd9-da2ed7d6bc86"
      },
      "outputs": [
        {
          "data": {
            "image/png": "[encoded data removed]",
            "text/plain": [
              "<Figure size 600x400 with 1 Axes>"
            ]
          },
          "metadata": {},
          "output_type": "display_data"
        }
      ],
      "source": [
        "# محاسبه میانگین فشار هوا برای هر سطح شدت تصادف\n",
        "mean_pressure = df2.groupby('Severity')['Pressure(in)'].mean()\n",
        "mean_pressure = mean_pressure.to_pandas()\n",
        "\n",
        "# رسم نمودار bar\n",
        "mean_pressure.plot(kind='bar', figsize=(6,4))\n",
        "plt.title('Mean Pressure per Severity')\n",
        "plt.xlabel('Severity')\n",
        "plt.ylabel('Average Pressure (in)')\n",
        "plt.grid(True)\n",
        "plt.tight_layout()\n",
        "plt.show()\n"
      ]
    },
    {
      "cell_type": "code",
      "execution_count": 43,
      "metadata": {
        "colab": {
          "base_uri": "https://localhost:8080/",
          "height": 407
        },
        "id": "zQ2ivnsdZvHr",
        "outputId": "2e21c3b0-a462-4773-d59b-80604e75cd48"
      },
      "outputs": [
        {
          "data": {
            "image/png": "[encoded data removed]",
            "text/plain": [
              "<Figure size 600x400 with 1 Axes>"
            ]
          },
          "metadata": {},
          "output_type": "display_data"
        }
      ],
      "source": [
        "# محاسبه میانگین سرعت باد برای هر شدت تصادف\n",
        "mean_wind_speed = df2.groupby('Severity')['Wind_Speed(mph)'].mean()\n",
        "mean_wind_speed = mean_wind_speed.to_pandas()\n",
        "\n",
        "# رسم نمودار bar\n",
        "mean_wind_speed.plot(kind='bar', figsize=(6,4))\n",
        "plt.title('Mean Wind Speed per Severity')\n",
        "plt.xlabel('Severity')\n",
        "plt.ylabel('Average Wind Speed (mph)')\n",
        "plt.grid(True)\n",
        "plt.tight_layout()\n",
        "plt.show()\n"
      ]
    },
    {
      "cell_type": "code",
      "execution_count": 44,
      "metadata": {
        "colab": {
          "base_uri": "https://localhost:8080/",
          "height": 607
        },
        "id": "DPK3uCriphk0",
        "outputId": "69455479-ba57-4ddc-d342-a8a04ed9002b"
      },
      "outputs": [
        {
          "data": {
            "image/png": "[encoded data removed]",
            "text/plain": [
              "<Figure size 800x600 with 2 Axes>"
            ]
          },
          "metadata": {},
          "output_type": "display_data"
        }
      ],
      "source": [
        "# تبدیل فقط ستون‌های عددی به پانداس\n",
        "numeric_cols = ['Severity', 'Temperature(F)', 'Humidity(%)',\n",
        "                'Pressure(in)', 'Visibility(mi)', 'Wind_Speed(mph)']\n",
        "\n",
        "# فقط همین بخش از دیتافریم رو تبدیل کن تا رم فشار نیاد\n",
        "df_corr = df2[numeric_cols].to_pandas()\n",
        "\n",
        "# محاسبه همبستگی و رسم heatmap\n",
        "plt.figure(figsize=(8,6))\n",
        "sns.heatmap(df_corr.corr(), annot=True, cmap='coolwarm', fmt='.2f', square=True)\n",
        "plt.title('Correlation Heatmap (Numerical Features)')\n",
        "plt.tight_layout()\n",
        "plt.show()\n"
      ]
    },
    {
      "cell_type": "code",
      "execution_count": 45,
      "metadata": {
        "colab": {
          "base_uri": "https://localhost:8080/",
          "height": 494
        },
        "id": "fA-bbcRzqsOJ",
        "outputId": "c57e7190-0b47-4cff-d890-6bb8013fe6b6"
      },
      "outputs": [
        {
          "name": "stderr",
          "output_type": "stream",
          "text": [
            "<ipython-input-45-287ea9dd668e>:15: FutureWarning: \n",
            "\n",
            "Passing `palette` without assigning `hue` is deprecated and will be removed in v0.14.0. Assign the `y` variable to `hue` and set `legend=False` for the same effect.\n",
            "\n",
            "  sns.barplot(x=correlation_sorted.values, y=correlation_sorted.index, palette='coolwarm')\n"
          ]
        },
        {
          "data": {
            "image/png": "[encoded data removed]",
            "text/plain": [
              "<Figure size 800x400 with 1 Axes>"
            ]
          },
          "metadata": {},
          "output_type": "display_data"
        }
      ],
      "source": [
        "numeric_cols = ['Temperature(F)', 'Humidity(%)', 'Pressure(in)',\n",
        "                'Visibility(mi)', 'Wind_Speed(mph)']\n",
        "\n",
        "# تبدیل فقط همونا به pandas\n",
        "df_numeric = df2[['Severity'] + numeric_cols].to_pandas()\n",
        "\n",
        "# محاسبه همبستگی فقط با Severity\n",
        "correlation_with_severity = df_numeric.corr()['Severity'].drop('Severity')\n",
        "\n",
        "# مرتب کردن از بیشترین به کمترین\n",
        "correlation_sorted = correlation_with_severity.sort_values(ascending=False)\n",
        "\n",
        "# رسم barplot\n",
        "plt.figure(figsize=(8,4))\n",
        "sns.barplot(x=correlation_sorted.values, y=correlation_sorted.index, palette='coolwarm')\n",
        "plt.title('Correlation of Features with Severity')\n",
        "plt.xlabel('Correlation Coefficient')\n",
        "plt.tight_layout()\n",
        "plt.grid(True)\n",
        "plt.show()"
      ]
    },
    {
      "cell_type": "code",
      "execution_count": 46,
      "metadata": {
        "colab": {
          "base_uri": "https://localhost:8080/",
          "height": 607
        },
        "id": "NAQp8Iz_rGlD",
        "outputId": "6dfe9d71-9485-420a-ba57-224c511e424b"
      },
      "outputs": [
        {
          "data": {
            "image/png": "[encoded data removed]",
            "text/plain": [
              "<Figure size 800x600 with 2 Axes>"
            ]
          },
          "metadata": {},
          "output_type": "display_data"
        }
      ],
      "source": [
        "\n",
        "# انتخاب ستون‌های عددی و تبدیل به pandas\n",
        "numeric_cols = ['Severity', 'Temperature(F)', 'Humidity(%)',\n",
        "                'Pressure(in)', 'Visibility(mi)', 'Wind_Speed(mph)']\n",
        "df_corr = df2[numeric_cols].to_pandas()\n",
        "\n",
        "# محاسبه همبستگی\n",
        "corr_matrix = df_corr.corr()\n",
        "\n",
        "# رسم Heatmap با مقیاس کامل\n",
        "plt.figure(figsize=(8,6))\n",
        "sns.heatmap(corr_matrix, annot=True, cmap='coolwarm', fmt='.2f',\n",
        "            vmin=-1, vmax=1, square=True)\n",
        "\n",
        "plt.title('Correlation Heatmap (-1 to +1 Scale)')\n",
        "plt.tight_layout()\n",
        "plt.show()\n"
      ]
    },
    {
      "cell_type": "code",
      "execution_count": 47,
      "metadata": {
        "id": "0PFvJ6mnIOy_"
      },
      "outputs": [],
      "source": [
        "df3 = df2"
      ]
    },
    {
      "cell_type": "code",
      "execution_count": 48,
      "metadata": {
        "colab": {
          "base_uri": "https://localhost:8080/",
          "height": 206
        },
        "id": "QX09Yof8IStO",
        "outputId": "f714fb96-5a9f-46a2-d853-392dcb727dbe"
      },
      "outputs": [
        {
          "data": {
            "text/html": [
              "<div>\n",
              "<style scoped>\n",
              "    .dataframe tbody tr th:only-of-type {\n",
              "        vertical-align: middle;\n",
              "    }\n",
              "\n",
              "    .dataframe tbody tr th {\n",
              "        vertical-align: top;\n",
              "    }\n",
              "\n",
              "    .dataframe thead th {\n",
              "        text-align: right;\n",
              "    }\n",
              "</style>\n",
              "<table border=\"1\" class=\"dataframe\">\n",
              "  <thead>\n",
              "    <tr style=\"text-align: right;\">\n",
              "      <th></th>\n",
              "      <th>Severity</th>\n",
              "      <th>Weather_Timestamp</th>\n",
              "      <th>Temperature(F)</th>\n",
              "      <th>Humidity(%)</th>\n",
              "      <th>Pressure(in)</th>\n",
              "      <th>Visibility(mi)</th>\n",
              "      <th>Wind_Speed(mph)</th>\n",
              "      <th>weather_condition_Label</th>\n",
              "      <th>Wind_Direction_label</th>\n",
              "    </tr>\n",
              "  </thead>\n",
              "  <tbody>\n",
              "    <tr>\n",
              "      <th>0</th>\n",
              "      <td>3</td>\n",
              "      <td>925765632</td>\n",
              "      <td>36</td>\n",
              "      <td>91</td>\n",
              "      <td>29.680000</td>\n",
              "      <td>10</td>\n",
              "      <td>3</td>\n",
              "      <td>62</td>\n",
              "      <td>1</td>\n",
              "    </tr>\n",
              "    <tr>\n",
              "      <th>1</th>\n",
              "      <td>2</td>\n",
              "      <td>1832560640</td>\n",
              "      <td>37</td>\n",
              "      <td>100</td>\n",
              "      <td>29.650000</td>\n",
              "      <td>10</td>\n",
              "      <td>3</td>\n",
              "      <td>62</td>\n",
              "      <td>1</td>\n",
              "    </tr>\n",
              "    <tr>\n",
              "      <th>2</th>\n",
              "      <td>2</td>\n",
              "      <td>2002255872</td>\n",
              "      <td>36</td>\n",
              "      <td>100</td>\n",
              "      <td>29.670000</td>\n",
              "      <td>10</td>\n",
              "      <td>3</td>\n",
              "      <td>88</td>\n",
              "      <td>16</td>\n",
              "    </tr>\n",
              "    <tr>\n",
              "      <th>3</th>\n",
              "      <td>3</td>\n",
              "      <td>856453120</td>\n",
              "      <td>35</td>\n",
              "      <td>96</td>\n",
              "      <td>29.639999</td>\n",
              "      <td>9</td>\n",
              "      <td>4</td>\n",
              "      <td>85</td>\n",
              "      <td>16</td>\n",
              "    </tr>\n",
              "    <tr>\n",
              "      <th>4</th>\n",
              "      <td>2</td>\n",
              "      <td>3208288256</td>\n",
              "      <td>36</td>\n",
              "      <td>89</td>\n",
              "      <td>29.650000</td>\n",
              "      <td>6</td>\n",
              "      <td>3</td>\n",
              "      <td>85</td>\n",
              "      <td>16</td>\n",
              "    </tr>\n",
              "  </tbody>\n",
              "</table>\n",
              "</div>"
            ],
            "text/plain": [
              "   Severity  Weather_Timestamp  Temperature(F)  Humidity(%)  Pressure(in)  \\\n",
              "0         3          925765632              36           91     29.680000   \n",
              "1         2         1832560640              37          100     29.650000   \n",
              "2         2         2002255872              36          100     29.670000   \n",
              "3         3          856453120              35           96     29.639999   \n",
              "4         2         3208288256              36           89     29.650000   \n",
              "\n",
              "   Visibility(mi)  Wind_Speed(mph)  weather_condition_Label  \\\n",
              "0              10                3                       62   \n",
              "1              10                3                       62   \n",
              "2              10                3                       88   \n",
              "3               9                4                       85   \n",
              "4               6                3                       85   \n",
              "\n",
              "   Wind_Direction_label  \n",
              "0                     1  \n",
              "1                     1  \n",
              "2                    16  \n",
              "3                    16  \n",
              "4                    16  "
            ]
          },
          "execution_count": 48,
          "metadata": {},
          "output_type": "execute_result"
        }
      ],
      "source": [
        "df3.head()"
      ]
    },
    {
      "cell_type": "code",
      "execution_count": null,
      "metadata": {
        "colab": {
          "base_uri": "https://localhost:8080/"
        },
        "id": "2NG_sYG9ILLf",
        "outputId": "50d01026-4568-4c42-8746-beff15b80068"
      },
      "outputs": [
        {
          "name": "stdout",
          "output_type": "stream",
          "text": [
            "5 selected features\n",
            "selected features: ['Humidity(%)', 'Wind_Speed(mph)', 'Wind_Direction_label', 'Pressure(in)', 'weather_condition_Label']\n"
          ]
        }
      ],
      "source": [
        "\n",
        "def cor_selector(X, y, num_feats):\n",
        "    cor_list = []\n",
        "    feature_name = X.columns.tolist()\n",
        "    # for i in X.columns.tolist():\n",
        "    #     cor = np.corrcoef(X[i], y)[0, 1]\n",
        "    #     cor_list.append(cor)\n",
        "    for i in X.columns.tolist():\n",
        "        cor = X[i].corr(y)\n",
        "        cor_list.append(cor)\n",
        "    cor_list = [0 if np.isnan(i) else i for i in cor_list]\n",
        "    cor_feature = X.iloc[:,np.argsort(np.abs(cor_list))[-num_feats:]].columns.tolist()\n",
        "    cor_support = [True if i in cor_feature else False for i in feature_name]\n",
        "    return cor_support, cor_feature\n",
        "\n",
        "\n",
        "\n",
        "numerical_features = df3.select_dtypes(include=np.number)\n",
        "\n",
        "numerical_features = numerical_features.drop('Severity', axis=1)\n",
        "\n",
        "target = df3['Severity']\n",
        "\n",
        "num_feats = 5\n",
        "\n",
        "cor_support, cor_feature = cor_selector(numerical_features, target, num_feats)\n",
        "\n",
        "print(str(len(cor_feature)), 'selected features')\n",
        "print('selected features:', cor_feature)"
      ]
    },
    {
      "cell_type": "code",
      "execution_count": null,
      "metadata": {
        "colab": {
          "base_uri": "https://localhost:8080/"
        },
        "id": "PLmcPVgQIsTt",
        "outputId": "ac3a905f-d8e7-442b-ec93-3c2ba8b61f0f"
      },
      "outputs": [
        {
          "name": "stdout",
          "output_type": "stream",
          "text": [
            "1 selected features\n",
            "selected features: ['weather_condition_Label']\n",
            "2 selected features\n",
            "selected features: ['Pressure(in)', 'weather_condition_Label']\n",
            "3 selected features\n",
            "selected features: ['Wind_Direction_label', 'Pressure(in)', 'weather_condition_Label']\n"
          ]
        }
      ],
      "source": [
        "from scipy.stats import pearsonr\n",
        "\n",
        "def cor_selector(X, y, num_feats):\n",
        "    cor_list = []\n",
        "    feature_name = X.columns.tolist()\n",
        "    for i in X.columns.tolist():\n",
        "        cor, _ = pearsonr(X[i].to_numpy(), y.to_numpy())  # محاسبه همبستگی پیرسون\n",
        "        cor_list.append(cor)\n",
        "    cor_list = [0 if np.isnan(i) else i for i in cor_list]\n",
        "    cor_feature = X.iloc[:,np.argsort(np.abs(cor_list))[-num_feats:]].columns.tolist()\n",
        "    cor_support = [True if i in cor_feature else False for i in feature_name]\n",
        "    return cor_support, cor_feature\n",
        "\n",
        "\n",
        "numerical_features = df3.select_dtypes(include=np.number)\n",
        "\n",
        "numerical_features = numerical_features.drop('Severity', axis=1)\n",
        "\n",
        "# تعیین متغیر هدف\n",
        "target = df3['Severity']\n",
        "\n",
        "\n",
        "for i in range(1,4):\n",
        "  num_feats = i\n",
        "\n",
        "  cor_support, cor_feature = cor_selector(numerical_features, target, num_feats)\n",
        "\n",
        "  print(str(len(cor_feature)), 'selected features')\n",
        "  print('selected features:', cor_feature)"
      ]
    },
    {
      "cell_type": "code",
      "execution_count": 65,
      "metadata": {
        "colab": {
          "base_uri": "https://localhost:8080/"
        },
        "id": "Nj9moXNhLKKw",
        "outputId": "5ba8696c-108e-4e26-a840-86dc00df60eb"
      },
      "outputs": [
        {
          "name": "stdout",
          "output_type": "stream",
          "text": [
            "1 selected categorical features\n",
            "selected categorical features: Index(['weather_condition_Label'], dtype='object')\n"
          ]
        }
      ],
      "source": [
        "import pandas as pd\n",
        "from sklearn.feature_selection import SelectKBest, chi2\n",
        "\n",
        "\n",
        "\n",
        "categorical_features = df3[['Wind_Direction_label', 'weather_condition_Label']]\n",
        "\n",
        "target = df3['Severity']\n",
        "\n",
        "num_feats = 1\n",
        "\n",
        "selector = SelectKBest(chi2, k=num_feats)\n",
        "selector.fit(categorical_features.to_numpy(), target.to_numpy())\n",
        "\n",
        "selected_features = categorical_features.columns[selector.get_support()]\n",
        "\n",
        "print(str(len(selected_features)), 'selected categorical features')\n",
        "print('selected categorical features:', selected_features)"
      ]
    },
    {
      "cell_type": "markdown",
      "metadata": {},
      "source": [
        "weather_condition_Label = OK"
      ]
    },
    {
      "cell_type": "markdown",
      "metadata": {},
      "source": []
    }
  ],
  "metadata": {
    "accelerator": "GPU",
    "colab": {
      "gpuType": "T4",
      "provenance": []
    },
    "kernelspec": {
      "display_name": "Python 3",
      "name": "python3"
    },
    "language_info": {
      "name": "python"
    }
  },
  "nbformat": 4,
  "nbformat_minor": 0
}
